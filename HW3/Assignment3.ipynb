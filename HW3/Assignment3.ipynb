{
 "cells": [
  {
   "cell_type": "markdown",
   "metadata": {},
   "source": [
    "# CAP 6615 Neural Networks Programming Assignment 2 – Multi-Layer Neural Network\n",
    "\n",
    "### Keyuan Lu, Wenxuan Bao, Yiming Xu, Yufan Chen, Yue Bai"
   ]
  },
  {
   "cell_type": "code",
   "execution_count": 21,
   "metadata": {},
   "outputs": [],
   "source": [
    "import numpy as np\n",
    "from datetime import datetime\n",
    "from numpy import genfromtxt\n",
    "import pandas as pd\n",
    "import torch\n",
    "import torch.nn as nn\n",
    "from torch.autograd import Variable"
   ]
  },
  {
   "cell_type": "markdown",
   "metadata": {},
   "source": [
    "## Step 1 - Design and build a dataset for RNN model"
   ]
  },
  {
   "cell_type": "code",
   "execution_count": 22,
   "metadata": {},
   "outputs": [],
   "source": [
    "price=pd.read_csv('HistoricalPrices.csv')\n",
    "pe=pd.read_csv('ie_data_PE.csv')"
   ]
  },
  {
   "cell_type": "code",
   "execution_count": 23,
   "metadata": {},
   "outputs": [
    {
     "data": {
      "text/html": [
       "<div>\n",
       "<style scoped>\n",
       "    .dataframe tbody tr th:only-of-type {\n",
       "        vertical-align: middle;\n",
       "    }\n",
       "\n",
       "    .dataframe tbody tr th {\n",
       "        vertical-align: top;\n",
       "    }\n",
       "\n",
       "    .dataframe thead th {\n",
       "        text-align: right;\n",
       "    }\n",
       "</style>\n",
       "<table border=\"1\" class=\"dataframe\">\n",
       "  <thead>\n",
       "    <tr style=\"text-align: right;\">\n",
       "      <th></th>\n",
       "      <th>Date_PE</th>\n",
       "      <th>PE_CAPE</th>\n",
       "      <th>TR CAPE</th>\n",
       "      <th>Yield</th>\n",
       "    </tr>\n",
       "  </thead>\n",
       "  <tbody>\n",
       "    <tr>\n",
       "      <th>0</th>\n",
       "      <td>1978.01</td>\n",
       "      <td>9.24</td>\n",
       "      <td>11.12</td>\n",
       "      <td>9.11%</td>\n",
       "    </tr>\n",
       "    <tr>\n",
       "      <th>1</th>\n",
       "      <td>1978.02</td>\n",
       "      <td>9.05</td>\n",
       "      <td>10.89</td>\n",
       "      <td>9.31%</td>\n",
       "    </tr>\n",
       "    <tr>\n",
       "      <th>2</th>\n",
       "      <td>1978.03</td>\n",
       "      <td>8.95</td>\n",
       "      <td>10.79</td>\n",
       "      <td>9.47%</td>\n",
       "    </tr>\n",
       "    <tr>\n",
       "      <th>3</th>\n",
       "      <td>1978.04</td>\n",
       "      <td>9.26</td>\n",
       "      <td>11.18</td>\n",
       "      <td>9.03%</td>\n",
       "    </tr>\n",
       "    <tr>\n",
       "      <th>4</th>\n",
       "      <td>1978.05</td>\n",
       "      <td>9.63</td>\n",
       "      <td>11.64</td>\n",
       "      <td>8.49%</td>\n",
       "    </tr>\n",
       "    <tr>\n",
       "      <th>...</th>\n",
       "      <td>...</td>\n",
       "      <td>...</td>\n",
       "      <td>...</td>\n",
       "      <td>...</td>\n",
       "    </tr>\n",
       "    <tr>\n",
       "      <th>511</th>\n",
       "      <td>2020.08</td>\n",
       "      <td>31.15</td>\n",
       "      <td>34.16</td>\n",
       "      <td>4.32%</td>\n",
       "    </tr>\n",
       "    <tr>\n",
       "      <th>512</th>\n",
       "      <td>2020.09</td>\n",
       "      <td>30.83</td>\n",
       "      <td>33.81</td>\n",
       "      <td>4.33%</td>\n",
       "    </tr>\n",
       "    <tr>\n",
       "      <th>513</th>\n",
       "      <td>2020.10</td>\n",
       "      <td>31.28</td>\n",
       "      <td>34.30</td>\n",
       "      <td>4.17%</td>\n",
       "    </tr>\n",
       "    <tr>\n",
       "      <th>514</th>\n",
       "      <td>2020.11</td>\n",
       "      <td>32.47</td>\n",
       "      <td>35.61</td>\n",
       "      <td>3.96%</td>\n",
       "    </tr>\n",
       "    <tr>\n",
       "      <th>515</th>\n",
       "      <td>2020.12</td>\n",
       "      <td>33.77</td>\n",
       "      <td>37.03</td>\n",
       "      <td>3.77%</td>\n",
       "    </tr>\n",
       "  </tbody>\n",
       "</table>\n",
       "<p>516 rows × 4 columns</p>\n",
       "</div>"
      ],
      "text/plain": [
       "     Date_PE  PE_CAPE  TR CAPE  Yield\n",
       "0    1978.01     9.24    11.12  9.11%\n",
       "1    1978.02     9.05    10.89  9.31%\n",
       "2    1978.03     8.95    10.79  9.47%\n",
       "3    1978.04     9.26    11.18  9.03%\n",
       "4    1978.05     9.63    11.64  8.49%\n",
       "..       ...      ...      ...    ...\n",
       "511  2020.08    31.15    34.16  4.32%\n",
       "512  2020.09    30.83    33.81  4.33%\n",
       "513  2020.10    31.28    34.30  4.17%\n",
       "514  2020.11    32.47    35.61  3.96%\n",
       "515  2020.12    33.77    37.03  3.77%\n",
       "\n",
       "[516 rows x 4 columns]"
      ]
     },
     "execution_count": 23,
     "metadata": {},
     "output_type": "execute_result"
    }
   ],
   "source": [
    "pe=pe.rename({'Date':'Date_PE'},axis=1)\n",
    "pe"
   ]
  },
  {
   "cell_type": "code",
   "execution_count": 24,
   "metadata": {},
   "outputs": [
    {
     "name": "stderr",
     "output_type": "stream",
     "text": [
      "<ipython-input-24-4c043bae6b4b>:9: SettingWithCopyWarning: \n",
      "A value is trying to be set on a copy of a slice from a DataFrame\n",
      "\n",
      "See the caveats in the documentation: https://pandas.pydata.org/pandas-docs/stable/user_guide/indexing.html#returning-a-view-versus-a-copy\n",
      "  price['Date_PE'][i]=year+month*0.01\n"
     ]
    }
   ],
   "source": [
    "price['Date_PE']=0.0\n",
    "for i in range(price.shape[0]):\n",
    "    month=int(price['Date'][i][0:2])\n",
    "    year=int(price['Date'][i][-2:])\n",
    "    if year>50:\n",
    "        year=year+1900\n",
    "    else:\n",
    "        year=year+2000\n",
    "    price['Date_PE'][i]=year+month*0.01"
   ]
  },
  {
   "cell_type": "code",
   "execution_count": 25,
   "metadata": {},
   "outputs": [],
   "source": [
    "data=pd.merge(price,pe,how='left',on='Date_PE')\n",
    "data.to_csv('Price_PE.csv')"
   ]
  },
  {
   "cell_type": "code",
   "execution_count": 26,
   "metadata": {},
   "outputs": [],
   "source": [
    "#'Date', ' Open', ' High', ' Low', ' Close'\n",
    "raw_data_price = genfromtxt('Price_PE.csv', delimiter=',',dtype=str)\n",
    "raw_data_price = raw_data_price[1:]"
   ]
  },
  {
   "cell_type": "code",
   "execution_count": 27,
   "metadata": {},
   "outputs": [
    {
     "data": {
      "text/plain": [
       "array([['0', '01/03/78', '93.82', ..., '9.24', '11.12', '9.11%'],\n",
       "       ['1', '01/04/78', '93.52', ..., '9.24', '11.12', '9.11%'],\n",
       "       ['2', '01/05/78', '92.74', ..., '9.24', '11.12', '9.11%'],\n",
       "       ...,\n",
       "       ['10841', '12/29/20', '3750.01', ..., '33.77', '37.03', '3.77%'],\n",
       "       ['10842', '12/30/20', '3736.19', ..., '33.77', '37.03', '3.77%'],\n",
       "       ['10843', '12/31/20', '3733.27', ..., '33.77', '37.03', '3.77%']],\n",
       "      dtype='<U8')"
      ]
     },
     "execution_count": 27,
     "metadata": {},
     "output_type": "execute_result"
    }
   ],
   "source": [
    "\n",
    "raw_data_price = np.flip(raw_data_price,0)\n",
    "count = 0\n",
    "for x in raw_data_price:\n",
    "    x[0] = str(count)\n",
    "    count += 1\n",
    "raw_data_price\n",
    "#Index,Date, Open, High, Low, Close,Date_PE,PE_CAPE,TR CAPE,Yield"
   ]
  },
  {
   "cell_type": "code",
   "execution_count": 28,
   "metadata": {},
   "outputs": [
    {
     "data": {
      "text/plain": [
       "array([['93.82', '9.24'],\n",
       "       ['93.52', '9.24'],\n",
       "       ['92.74', '9.24'],\n",
       "       ...,\n",
       "       ['3727.04', '33.77'],\n",
       "       ['3732.04', '33.77'],\n",
       "       ['3756.07', '33.77']], dtype='<U8')"
      ]
     },
     "execution_count": 28,
     "metadata": {},
     "output_type": "execute_result"
    }
   ],
   "source": [
    "#We are only using ClOSE price and Cyclicily adjusted PE-ratio as data frame\n",
    "training_set = raw_data_price[:,[5,7]]\n",
    "training_set"
   ]
  },
  {
   "cell_type": "code",
   "execution_count": 29,
   "metadata": {},
   "outputs": [],
   "source": [
    "# Feature Scaling\n",
    "from sklearn.preprocessing import MinMaxScaler\n",
    "sc = MinMaxScaler(feature_range = (0, 1))\n",
    "training_set_scaled = sc.fit_transform(training_set)"
   ]
  },
  {
   "cell_type": "code",
   "execution_count": 30,
   "metadata": {},
   "outputs": [],
   "source": [
    "#Data format setting\n",
    "INPUT_SIZE = 180\n",
    "HIDDEN_SIZE = 32\n",
    "NUM_LAYERS = 2\n",
    "OUTPUT_SIZE = 1\n",
    "\n",
    "num_epochs = 50\n",
    "learning_rate = 0.001"
   ]
  },
  {
   "cell_type": "code",
   "execution_count": 31,
   "metadata": {},
   "outputs": [],
   "source": [
    "# Creating a data structure with 180 timesteps and 1 output\n",
    "X_train = []\n",
    "y_train = []\n",
    "for i in range(INPUT_SIZE, 10842):\n",
    "    X_train.append(training_set_scaled[i-INPUT_SIZE:i, 0])\n",
    "    y_train.append(training_set_scaled[i, 0])\n",
    "X_train, y_train = np.array(X_train), np.array(y_train)"
   ]
  },
  {
   "cell_type": "code",
   "execution_count": 32,
   "metadata": {},
   "outputs": [],
   "source": [
    "# Reshaping\n",
    "X_train = np.reshape(X_train, (X_train.shape[0], 1, X_train.shape[1]))"
   ]
  },
  {
   "cell_type": "markdown",
   "metadata": {},
   "source": [
    "## Step 2 - Design and develop RNN in Python, using libraries such as PyTorch (and, if necessary, Tensor Flow). "
   ]
  },
  {
   "cell_type": "code",
   "execution_count": 33,
   "metadata": {},
   "outputs": [],
   "source": [
    "class RNN(nn.Module):\n",
    "    def __init__(self, i_size, h_size, n_layers, o_size):\n",
    "        super(RNN, self).__init__()\n",
    "\n",
    "        self.rnn = nn.RNN(\n",
    "            input_size=i_size,\n",
    "            hidden_size=h_size,\n",
    "            num_layers=n_layers\n",
    "        )\n",
    "        self.out = nn.Linear(h_size, o_size)\n",
    "\n",
    "    def forward(self, x):\n",
    "        r_out, _ = self.rnn(x)\n",
    "        outs = self.out(r_out)\n",
    "\n",
    "        return outs"
   ]
  },
  {
   "cell_type": "code",
   "execution_count": 34,
   "metadata": {},
   "outputs": [],
   "source": [
    "rnn = RNN(INPUT_SIZE, HIDDEN_SIZE, NUM_LAYERS, OUTPUT_SIZE)\n",
    "#set the model to the device that we defined earlier (default is CPU)\n",
    "optimiser = torch.optim.Adam(rnn.parameters(), lr=learning_rate)\n",
    "criterion = nn.MSELoss()\n",
    "\n",
    "hidden_state = None"
   ]
  },
  {
   "cell_type": "markdown",
   "metadata": {},
   "source": [
    "## Step 3 - Train your RNN using time window 180"
   ]
  },
  {
   "cell_type": "code",
   "execution_count": 35,
   "metadata": {},
   "outputs": [
    {
     "name": "stdout",
     "output_type": "stream",
     "text": [
      "Epoch  0 MSE:  0.09102657437324524\n",
      "Epoch  1 MSE:  0.03152346611022949\n",
      "Epoch  2 MSE:  0.011735993437469006\n",
      "Epoch  3 MSE:  0.01589621976017952\n",
      "Epoch  4 MSE:  0.022482873871922493\n",
      "Epoch  5 MSE:  0.02126406319439411\n",
      "Epoch  6 MSE:  0.014350549317896366\n",
      "Epoch  7 MSE:  0.007785355672240257\n",
      "Epoch  8 MSE:  0.006139332894235849\n",
      "Epoch  9 MSE:  0.008910633623600006\n",
      "Epoch  10 MSE:  0.011345750652253628\n",
      "Epoch  11 MSE:  0.01049133762717247\n",
      "Epoch  12 MSE:  0.007289554458111525\n",
      "Epoch  13 MSE:  0.004337802529335022\n",
      "Epoch  14 MSE:  0.0035077554639428854\n",
      "Epoch  15 MSE:  0.004686059895902872\n",
      "Epoch  16 MSE:  0.0062267230823636055\n",
      "Epoch  17 MSE:  0.006635179743170738\n",
      "Epoch  18 MSE:  0.005655498243868351\n",
      "Epoch  19 MSE:  0.00408010883256793\n",
      "Epoch  20 MSE:  0.002964799292385578\n",
      "Epoch  21 MSE:  0.0028630017768591642\n",
      "Epoch  22 MSE:  0.0034821834415197372\n",
      "Epoch  23 MSE:  0.004017493221908808\n",
      "Epoch  24 MSE:  0.0038798516616225243\n",
      "Epoch  25 MSE:  0.0031194130424410105\n",
      "Epoch  26 MSE:  0.0022519954945892096\n",
      "Epoch  27 MSE:  0.0017826850526034832\n",
      "Epoch  28 MSE:  0.0018408787436783314\n",
      "Epoch  29 MSE:  0.0021569838281720877\n",
      "Epoch  30 MSE:  0.0023365081287920475\n",
      "Epoch  31 MSE:  0.0021742035169154406\n",
      "Epoch  32 MSE:  0.0017675068229436874\n",
      "Epoch  33 MSE:  0.001389962388202548\n",
      "Epoch  34 MSE:  0.001258702133782208\n",
      "Epoch  35 MSE:  0.0013749109348282218\n",
      "Epoch  36 MSE:  0.001548722735606134\n",
      "Epoch  37 MSE:  0.0015751600731164217\n",
      "Epoch  38 MSE:  0.0014022757532075047\n",
      "Epoch  39 MSE:  0.0011508387979120016\n",
      "Epoch  40 MSE:  0.000988659681752324\n",
      "Epoch  41 MSE:  0.0009839464910328388\n",
      "Epoch  42 MSE:  0.0010627933079376817\n",
      "Epoch  43 MSE:  0.001093548140488565\n",
      "Epoch  44 MSE:  0.0010094367899000645\n",
      "Epoch  45 MSE:  0.0008582578739151359\n",
      "Epoch  46 MSE:  0.0007450816920027137\n",
      "Epoch  47 MSE:  0.0007299701101146638\n",
      "Epoch  48 MSE:  0.0007769008516333997\n",
      "Epoch  49 MSE:  0.0007986972923390567\n"
     ]
    }
   ],
   "source": [
    "for epoch in range(num_epochs):\n",
    "    inputs = Variable(torch.from_numpy(X_train).float())\n",
    "    labels = Variable(torch.from_numpy(y_train).float())\n",
    "\n",
    "    output = rnn(inputs) \n",
    "    \n",
    "    loss = criterion(output.view(-1), labels)\n",
    "    print(\"Epoch \", epoch, \"MSE: \", loss.item())\n",
    "    optimiser.zero_grad()\n",
    "\n",
    "    # Backward pass\n",
    "    loss.backward(retain_graph=True)\n",
    "\n",
    "    # Update parameters\n",
    "    optimiser.step()                                \n"
   ]
  },
  {
   "cell_type": "code",
   "execution_count": null,
   "metadata": {},
   "outputs": [],
   "source": []
  },
  {
   "cell_type": "code",
   "execution_count": null,
   "metadata": {},
   "outputs": [],
   "source": []
  },
  {
   "cell_type": "code",
   "execution_count": null,
   "metadata": {},
   "outputs": [],
   "source": [
    "#reference:https://github.com/thundercomb/pytorch-stock-predictor-rnn/blob/master/pytorch-stock-predictor-lstm.ipynb"
   ]
  }
 ],
 "metadata": {
  "kernelspec": {
   "display_name": "Python 3",
   "language": "python",
   "name": "python3"
  },
  "language_info": {
   "codemirror_mode": {
    "name": "ipython",
    "version": 3
   },
   "file_extension": ".py",
   "mimetype": "text/x-python",
   "name": "python",
   "nbconvert_exporter": "python",
   "pygments_lexer": "ipython3",
   "version": "3.8.5"
  }
 },
 "nbformat": 4,
 "nbformat_minor": 4
}
