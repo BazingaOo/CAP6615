{
 "cells": [
  {
   "cell_type": "markdown",
   "metadata": {},
   "source": [
    "# CAP 6615 Neural Networks Programming Assignment 2 – Multi-Layer Neural Network\n",
    "\n",
    "### Keyuan Lu, Wenxuan Bao, Yiming Xu, Yufan Chen, Yue Bai"
   ]
  },
  {
   "cell_type": "code",
   "execution_count": 16,
   "metadata": {},
   "outputs": [],
   "source": [
    "import numpy as np\n",
    "from datetime import datetime\n",
    "from numpy import genfromtxt"
   ]
  },
  {
   "cell_type": "markdown",
   "metadata": {},
   "source": [
    "## Step 1 - Design and build a dataset for RNN model"
   ]
  },
  {
   "cell_type": "code",
   "execution_count": 17,
   "metadata": {},
   "outputs": [
    {
     "data": {
      "text/plain": [
       "array([['01/03/1978', ' 93.82', ' 95.15', ' 93.49', ' 93.82'],\n",
       "       ['01/04/1978', ' 93.52', ' 94.10', ' 93.16', ' 93.52'],\n",
       "       ['01/05/1978', ' 92.74', ' 94.53', ' 92.51', ' 92.74'],\n",
       "       ...,\n",
       "       ['12/29/2020', ' 3750.01', ' 3756.12', ' 3723.31', ' 3727.04'],\n",
       "       ['12/30/2020', ' 3736.19', ' 3744.63', ' 3730.21', ' 3732.04'],\n",
       "       ['12/31/2020', ' 3733.27', ' 3760.20', ' 3726.88', ' 3756.07']],\n",
       "      dtype='<U10')"
      ]
     },
     "execution_count": 17,
     "metadata": {},
     "output_type": "execute_result"
    }
   ],
   "source": [
    "#'Date', ' Open', ' High', ' Low', ' Close'\n",
    "raw_data_price = genfromtxt('HistoricalPrices.csv', delimiter=',',dtype=str)\n",
    "raw_data_price = raw_data_price.astype('U10')\n",
    "raw_data_price = np.flip(raw_data_price,0)\n",
    "raw_data_price = raw_data_price[:-1]\n",
    "for x in raw_data_price:\n",
    "    datestr = x[0]\n",
    "    date = datetime.strptime(datestr, '%m/%d/%y')\n",
    "    x[0] = date.strftime(\"%m/%d/%Y\")\n",
    "raw_data_price "
   ]
  },
  {
   "cell_type": "code",
   "execution_count": 18,
   "metadata": {},
   "outputs": [
    {
     "data": {
      "text/plain": [
       "array([['01/01/1978', '9.24', '11.12', '9.11%'],\n",
       "       ['02/01/1978', '9.05', '10.89', '9.31%'],\n",
       "       ['03/01/1978', '8.95', '10.79', '9.47%'],\n",
       "       ...,\n",
       "       ['01/01/2020', '31.28', '34.3', '4.17%'],\n",
       "       ['11/01/2020', '32.47', '35.61', '3.96%'],\n",
       "       ['12/01/2020', '33.77', '37.03', '3.77%']], dtype='<U10')"
      ]
     },
     "execution_count": 18,
     "metadata": {},
     "output_type": "execute_result"
    }
   ],
   "source": [
    "#'Date', 'PE_CAPE', 'TR CAPE', 'Yield\n",
    "raw_data_PE = genfromtxt('ie_data_PE.csv', delimiter=',',dtype=str)\n",
    "raw_data_PE = raw_data_PE.astype('U10')\n",
    "raw_data_PE = raw_data_PE[1:]\n",
    "for x in raw_data_PE:\n",
    "    datestr = x[0]\n",
    "    date = datetime.strptime(datestr, '%Y.%m')\n",
    "    x[0] = date.strftime(\"%m/%d/%Y\")\n",
    "raw_data_PE"
   ]
  },
  {
   "cell_type": "markdown",
   "metadata": {},
   "source": [
    "## Step 2 - Design and develop RNN in Python, using libraries such as PyTorch (and, if necessary, Tensor Flow). "
   ]
  },
  {
   "cell_type": "code",
   "execution_count": null,
   "metadata": {},
   "outputs": [],
   "source": []
  },
  {
   "cell_type": "code",
   "execution_count": null,
   "metadata": {},
   "outputs": [],
   "source": []
  },
  {
   "cell_type": "code",
   "execution_count": null,
   "metadata": {},
   "outputs": [],
   "source": []
  }
 ],
 "metadata": {
  "kernelspec": {
   "display_name": "Python 3",
   "language": "python",
   "name": "python3"
  },
  "language_info": {
   "codemirror_mode": {
    "name": "ipython",
    "version": 3
   },
   "file_extension": ".py",
   "mimetype": "text/x-python",
   "name": "python",
   "nbconvert_exporter": "python",
   "pygments_lexer": "ipython3",
   "version": "3.8.5"
  }
 },
 "nbformat": 4,
 "nbformat_minor": 4
}
