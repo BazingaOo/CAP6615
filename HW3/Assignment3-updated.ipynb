{
 "cells": [
  {
   "cell_type": "markdown",
   "metadata": {},
   "source": [
    "# CAP 6615 Neural Networks Programming Assignment 3 – Recurrent Neural Network\n",
    "\n",
    "### Keyuan Lu, Wenxuan Bao, Yiming Xu, Yufan Chen, Yue Bai"
   ]
  },
  {
   "cell_type": "code",
   "execution_count": 1,
   "metadata": {},
   "outputs": [],
   "source": [
    "import numpy as np\n",
    "import random \n",
    "from datetime import datetime\n",
    "from numpy import genfromtxt\n",
    "import pandas as pd\n",
    "import torch\n",
    "import torch.nn as nn\n",
    "from torch.autograd import Variable\n",
    "import matplotlib.pyplot as plt\n",
    "from sklearn.preprocessing import MinMaxScaler"
   ]
  },
  {
   "cell_type": "markdown",
   "metadata": {},
   "source": [
    "## Step 1 - Design and build a dataset for RNN model"
   ]
  },
  {
   "cell_type": "markdown",
   "metadata": {},
   "source": [
    "### Select S&P500 Dataset and Schiller P/E ratio. Make an overlay of the Schiller P/E from 1 Jan 1960 to 31 Dec 2020, onto the S&P500 for the same period."
   ]
  },
  {
   "cell_type": "code",
   "execution_count": 2,
   "metadata": {},
   "outputs": [],
   "source": [
    "# read sp500 price data and schiller pe data.\n",
    "price_new=pd.read_csv('HistoricalPrices.csv')\n",
    "price_old=pd.read_csv('HistoricalPrices_old.csv')\n",
    "pe=pd.read_csv('ie_data_PE_full.csv')"
   ]
  },
  {
   "cell_type": "code",
   "execution_count": 3,
   "metadata": {},
   "outputs": [
    {
     "data": {
      "text/html": [
       "<div>\n",
       "<style scoped>\n",
       "    .dataframe tbody tr th:only-of-type {\n",
       "        vertical-align: middle;\n",
       "    }\n",
       "\n",
       "    .dataframe tbody tr th {\n",
       "        vertical-align: top;\n",
       "    }\n",
       "\n",
       "    .dataframe thead th {\n",
       "        text-align: right;\n",
       "    }\n",
       "</style>\n",
       "<table border=\"1\" class=\"dataframe\">\n",
       "  <thead>\n",
       "    <tr style=\"text-align: right;\">\n",
       "      <th></th>\n",
       "      <th>Date</th>\n",
       "      <th>PE_CAPE</th>\n",
       "    </tr>\n",
       "  </thead>\n",
       "  <tbody>\n",
       "    <tr>\n",
       "      <th>0</th>\n",
       "      <td>1960.01</td>\n",
       "      <td>18.338285</td>\n",
       "    </tr>\n",
       "    <tr>\n",
       "      <th>1</th>\n",
       "      <td>1960.02</td>\n",
       "      <td>17.545275</td>\n",
       "    </tr>\n",
       "    <tr>\n",
       "      <th>2</th>\n",
       "      <td>1960.03</td>\n",
       "      <td>17.286021</td>\n",
       "    </tr>\n",
       "    <tr>\n",
       "      <th>3</th>\n",
       "      <td>1960.04</td>\n",
       "      <td>17.429767</td>\n",
       "    </tr>\n",
       "    <tr>\n",
       "      <th>4</th>\n",
       "      <td>1960.05</td>\n",
       "      <td>17.256171</td>\n",
       "    </tr>\n",
       "    <tr>\n",
       "      <th>...</th>\n",
       "      <td>...</td>\n",
       "      <td>...</td>\n",
       "    </tr>\n",
       "    <tr>\n",
       "      <th>727</th>\n",
       "      <td>2020.08</td>\n",
       "      <td>31.152309</td>\n",
       "    </tr>\n",
       "    <tr>\n",
       "      <th>728</th>\n",
       "      <td>2020.09</td>\n",
       "      <td>30.833593</td>\n",
       "    </tr>\n",
       "    <tr>\n",
       "      <th>729</th>\n",
       "      <td>2020.10</td>\n",
       "      <td>31.277783</td>\n",
       "    </tr>\n",
       "    <tr>\n",
       "      <th>730</th>\n",
       "      <td>2020.11</td>\n",
       "      <td>32.471647</td>\n",
       "    </tr>\n",
       "    <tr>\n",
       "      <th>731</th>\n",
       "      <td>2020.12</td>\n",
       "      <td>33.769789</td>\n",
       "    </tr>\n",
       "  </tbody>\n",
       "</table>\n",
       "<p>732 rows × 2 columns</p>\n",
       "</div>"
      ],
      "text/plain": [
       "        Date    PE_CAPE\n",
       "0    1960.01  18.338285\n",
       "1    1960.02  17.545275\n",
       "2    1960.03  17.286021\n",
       "3    1960.04  17.429767\n",
       "4    1960.05  17.256171\n",
       "..       ...        ...\n",
       "727  2020.08  31.152309\n",
       "728  2020.09  30.833593\n",
       "729  2020.10  31.277783\n",
       "730  2020.11  32.471647\n",
       "731  2020.12  33.769789\n",
       "\n",
       "[732 rows x 2 columns]"
      ]
     },
     "execution_count": 3,
     "metadata": {},
     "output_type": "execute_result"
    }
   ],
   "source": [
    "pe"
   ]
  },
  {
   "cell_type": "code",
   "execution_count": 4,
   "metadata": {},
   "outputs": [
    {
     "data": {
      "text/html": [
       "<div>\n",
       "<style scoped>\n",
       "    .dataframe tbody tr th:only-of-type {\n",
       "        vertical-align: middle;\n",
       "    }\n",
       "\n",
       "    .dataframe tbody tr th {\n",
       "        vertical-align: top;\n",
       "    }\n",
       "\n",
       "    .dataframe thead th {\n",
       "        text-align: right;\n",
       "    }\n",
       "</style>\n",
       "<table border=\"1\" class=\"dataframe\">\n",
       "  <thead>\n",
       "    <tr style=\"text-align: right;\">\n",
       "      <th></th>\n",
       "      <th>Date</th>\n",
       "      <th>Open</th>\n",
       "      <th>High</th>\n",
       "      <th>Low</th>\n",
       "      <th>Close</th>\n",
       "    </tr>\n",
       "  </thead>\n",
       "  <tbody>\n",
       "    <tr>\n",
       "      <th>2511</th>\n",
       "      <td>1960-01-04</td>\n",
       "      <td>59.910000</td>\n",
       "      <td>59.910000</td>\n",
       "      <td>59.910000</td>\n",
       "      <td>59.910000</td>\n",
       "    </tr>\n",
       "    <tr>\n",
       "      <th>2512</th>\n",
       "      <td>1960-01-05</td>\n",
       "      <td>60.389999</td>\n",
       "      <td>60.389999</td>\n",
       "      <td>60.389999</td>\n",
       "      <td>60.389999</td>\n",
       "    </tr>\n",
       "    <tr>\n",
       "      <th>2513</th>\n",
       "      <td>1960-01-06</td>\n",
       "      <td>60.130001</td>\n",
       "      <td>60.130001</td>\n",
       "      <td>60.130001</td>\n",
       "      <td>60.130001</td>\n",
       "    </tr>\n",
       "    <tr>\n",
       "      <th>2514</th>\n",
       "      <td>1960-01-07</td>\n",
       "      <td>59.689999</td>\n",
       "      <td>59.689999</td>\n",
       "      <td>59.689999</td>\n",
       "      <td>59.689999</td>\n",
       "    </tr>\n",
       "    <tr>\n",
       "      <th>2515</th>\n",
       "      <td>1960-01-08</td>\n",
       "      <td>59.500000</td>\n",
       "      <td>59.500000</td>\n",
       "      <td>59.500000</td>\n",
       "      <td>59.500000</td>\n",
       "    </tr>\n",
       "    <tr>\n",
       "      <th>...</th>\n",
       "      <td>...</td>\n",
       "      <td>...</td>\n",
       "      <td>...</td>\n",
       "      <td>...</td>\n",
       "      <td>...</td>\n",
       "    </tr>\n",
       "    <tr>\n",
       "      <th>7016</th>\n",
       "      <td>1977-12-23</td>\n",
       "      <td>93.800003</td>\n",
       "      <td>94.989998</td>\n",
       "      <td>93.750000</td>\n",
       "      <td>94.690002</td>\n",
       "    </tr>\n",
       "    <tr>\n",
       "      <th>7017</th>\n",
       "      <td>1977-12-27</td>\n",
       "      <td>94.690002</td>\n",
       "      <td>95.209999</td>\n",
       "      <td>94.089996</td>\n",
       "      <td>94.690002</td>\n",
       "    </tr>\n",
       "    <tr>\n",
       "      <th>7018</th>\n",
       "      <td>1977-12-28</td>\n",
       "      <td>94.690002</td>\n",
       "      <td>95.199997</td>\n",
       "      <td>93.989998</td>\n",
       "      <td>94.750000</td>\n",
       "    </tr>\n",
       "    <tr>\n",
       "      <th>7019</th>\n",
       "      <td>1977-12-29</td>\n",
       "      <td>94.750000</td>\n",
       "      <td>95.430000</td>\n",
       "      <td>94.099998</td>\n",
       "      <td>94.940002</td>\n",
       "    </tr>\n",
       "    <tr>\n",
       "      <th>7020</th>\n",
       "      <td>1977-12-30</td>\n",
       "      <td>94.940002</td>\n",
       "      <td>95.669998</td>\n",
       "      <td>94.440002</td>\n",
       "      <td>95.099998</td>\n",
       "    </tr>\n",
       "  </tbody>\n",
       "</table>\n",
       "<p>4510 rows × 5 columns</p>\n",
       "</div>"
      ],
      "text/plain": [
       "           Date       Open       High        Low      Close\n",
       "2511 1960-01-04  59.910000  59.910000  59.910000  59.910000\n",
       "2512 1960-01-05  60.389999  60.389999  60.389999  60.389999\n",
       "2513 1960-01-06  60.130001  60.130001  60.130001  60.130001\n",
       "2514 1960-01-07  59.689999  59.689999  59.689999  59.689999\n",
       "2515 1960-01-08  59.500000  59.500000  59.500000  59.500000\n",
       "...         ...        ...        ...        ...        ...\n",
       "7016 1977-12-23  93.800003  94.989998  93.750000  94.690002\n",
       "7017 1977-12-27  94.690002  95.209999  94.089996  94.690002\n",
       "7018 1977-12-28  94.690002  95.199997  93.989998  94.750000\n",
       "7019 1977-12-29  94.750000  95.430000  94.099998  94.940002\n",
       "7020 1977-12-30  94.940002  95.669998  94.440002  95.099998\n",
       "\n",
       "[4510 rows x 5 columns]"
      ]
     },
     "execution_count": 4,
     "metadata": {},
     "output_type": "execute_result"
    }
   ],
   "source": [
    "price_old = price_old.drop(['Volume', 'Adj Close' ], 1)\n",
    "# transform Date to date timestamp\n",
    "price_old['Date'] = pd.to_datetime(price_old['Date'])\n",
    "price_old = price_old.loc[ (price_old['Date'] < '1978-01-03') &  (price_old['Date']  >= '1960-01-01' )]\n",
    "price_old"
   ]
  },
  {
   "cell_type": "code",
   "execution_count": 5,
   "metadata": {},
   "outputs": [
    {
     "data": {
      "text/plain": [
       "Index(['Date', 'Open', 'High', 'Low', 'Close'], dtype='object')"
      ]
     },
     "execution_count": 5,
     "metadata": {},
     "output_type": "execute_result"
    }
   ],
   "source": [
    "price_old.columns"
   ]
  },
  {
   "cell_type": "code",
   "execution_count": 6,
   "metadata": {},
   "outputs": [
    {
     "data": {
      "text/html": [
       "<div>\n",
       "<style scoped>\n",
       "    .dataframe tbody tr th:only-of-type {\n",
       "        vertical-align: middle;\n",
       "    }\n",
       "\n",
       "    .dataframe tbody tr th {\n",
       "        vertical-align: top;\n",
       "    }\n",
       "\n",
       "    .dataframe thead th {\n",
       "        text-align: right;\n",
       "    }\n",
       "</style>\n",
       "<table border=\"1\" class=\"dataframe\">\n",
       "  <thead>\n",
       "    <tr style=\"text-align: right;\">\n",
       "      <th></th>\n",
       "      <th>Date</th>\n",
       "      <th>Open</th>\n",
       "      <th>High</th>\n",
       "      <th>Low</th>\n",
       "      <th>Close</th>\n",
       "    </tr>\n",
       "  </thead>\n",
       "  <tbody>\n",
       "    <tr>\n",
       "      <th>0</th>\n",
       "      <td>1978-01-03</td>\n",
       "      <td>93.82</td>\n",
       "      <td>95.15</td>\n",
       "      <td>93.49</td>\n",
       "      <td>93.82</td>\n",
       "    </tr>\n",
       "    <tr>\n",
       "      <th>1</th>\n",
       "      <td>1978-01-04</td>\n",
       "      <td>93.52</td>\n",
       "      <td>94.10</td>\n",
       "      <td>93.16</td>\n",
       "      <td>93.52</td>\n",
       "    </tr>\n",
       "    <tr>\n",
       "      <th>2</th>\n",
       "      <td>1978-01-05</td>\n",
       "      <td>92.74</td>\n",
       "      <td>94.53</td>\n",
       "      <td>92.51</td>\n",
       "      <td>92.74</td>\n",
       "    </tr>\n",
       "    <tr>\n",
       "      <th>3</th>\n",
       "      <td>1978-01-06</td>\n",
       "      <td>91.62</td>\n",
       "      <td>92.66</td>\n",
       "      <td>91.05</td>\n",
       "      <td>91.62</td>\n",
       "    </tr>\n",
       "    <tr>\n",
       "      <th>4</th>\n",
       "      <td>1978-01-09</td>\n",
       "      <td>90.64</td>\n",
       "      <td>91.52</td>\n",
       "      <td>90.01</td>\n",
       "      <td>90.64</td>\n",
       "    </tr>\n",
       "    <tr>\n",
       "      <th>...</th>\n",
       "      <td>...</td>\n",
       "      <td>...</td>\n",
       "      <td>...</td>\n",
       "      <td>...</td>\n",
       "      <td>...</td>\n",
       "    </tr>\n",
       "    <tr>\n",
       "      <th>10839</th>\n",
       "      <td>2020-12-24</td>\n",
       "      <td>3694.03</td>\n",
       "      <td>3703.82</td>\n",
       "      <td>3689.32</td>\n",
       "      <td>3703.06</td>\n",
       "    </tr>\n",
       "    <tr>\n",
       "      <th>10840</th>\n",
       "      <td>2020-12-28</td>\n",
       "      <td>3723.03</td>\n",
       "      <td>3740.51</td>\n",
       "      <td>3723.03</td>\n",
       "      <td>3735.36</td>\n",
       "    </tr>\n",
       "    <tr>\n",
       "      <th>10841</th>\n",
       "      <td>2020-12-29</td>\n",
       "      <td>3750.01</td>\n",
       "      <td>3756.12</td>\n",
       "      <td>3723.31</td>\n",
       "      <td>3727.04</td>\n",
       "    </tr>\n",
       "    <tr>\n",
       "      <th>10842</th>\n",
       "      <td>2020-12-30</td>\n",
       "      <td>3736.19</td>\n",
       "      <td>3744.63</td>\n",
       "      <td>3730.21</td>\n",
       "      <td>3732.04</td>\n",
       "    </tr>\n",
       "    <tr>\n",
       "      <th>10843</th>\n",
       "      <td>2020-12-31</td>\n",
       "      <td>3733.27</td>\n",
       "      <td>3760.20</td>\n",
       "      <td>3726.88</td>\n",
       "      <td>3756.07</td>\n",
       "    </tr>\n",
       "  </tbody>\n",
       "</table>\n",
       "<p>10844 rows × 5 columns</p>\n",
       "</div>"
      ],
      "text/plain": [
       "            Date     Open     High      Low    Close\n",
       "0     1978-01-03    93.82    95.15    93.49    93.82\n",
       "1     1978-01-04    93.52    94.10    93.16    93.52\n",
       "2     1978-01-05    92.74    94.53    92.51    92.74\n",
       "3     1978-01-06    91.62    92.66    91.05    91.62\n",
       "4     1978-01-09    90.64    91.52    90.01    90.64\n",
       "...          ...      ...      ...      ...      ...\n",
       "10839 2020-12-24  3694.03  3703.82  3689.32  3703.06\n",
       "10840 2020-12-28  3723.03  3740.51  3723.03  3735.36\n",
       "10841 2020-12-29  3750.01  3756.12  3723.31  3727.04\n",
       "10842 2020-12-30  3736.19  3744.63  3730.21  3732.04\n",
       "10843 2020-12-31  3733.27  3760.20  3726.88  3756.07\n",
       "\n",
       "[10844 rows x 5 columns]"
      ]
     },
     "execution_count": 6,
     "metadata": {},
     "output_type": "execute_result"
    }
   ],
   "source": [
    "price_new['Date'] = pd.to_datetime(price_new['Date'])\n",
    "#reverse the dataset\n",
    "price_new = price_new.iloc[::-1].reset_index(drop = True)\n",
    "price_new. columns = ['Date', 'Open', 'High', 'Low', 'Close']\n",
    "price_new"
   ]
  },
  {
   "cell_type": "code",
   "execution_count": 7,
   "metadata": {},
   "outputs": [
    {
     "data": {
      "text/html": [
       "<div>\n",
       "<style scoped>\n",
       "    .dataframe tbody tr th:only-of-type {\n",
       "        vertical-align: middle;\n",
       "    }\n",
       "\n",
       "    .dataframe tbody tr th {\n",
       "        vertical-align: top;\n",
       "    }\n",
       "\n",
       "    .dataframe thead th {\n",
       "        text-align: right;\n",
       "    }\n",
       "</style>\n",
       "<table border=\"1\" class=\"dataframe\">\n",
       "  <thead>\n",
       "    <tr style=\"text-align: right;\">\n",
       "      <th></th>\n",
       "      <th>Date</th>\n",
       "      <th>Open</th>\n",
       "      <th>High</th>\n",
       "      <th>Low</th>\n",
       "      <th>Close</th>\n",
       "    </tr>\n",
       "  </thead>\n",
       "  <tbody>\n",
       "    <tr>\n",
       "      <th>0</th>\n",
       "      <td>1960-01-04</td>\n",
       "      <td>59.910000</td>\n",
       "      <td>59.910000</td>\n",
       "      <td>59.910000</td>\n",
       "      <td>59.910000</td>\n",
       "    </tr>\n",
       "    <tr>\n",
       "      <th>1</th>\n",
       "      <td>1960-01-05</td>\n",
       "      <td>60.389999</td>\n",
       "      <td>60.389999</td>\n",
       "      <td>60.389999</td>\n",
       "      <td>60.389999</td>\n",
       "    </tr>\n",
       "    <tr>\n",
       "      <th>2</th>\n",
       "      <td>1960-01-06</td>\n",
       "      <td>60.130001</td>\n",
       "      <td>60.130001</td>\n",
       "      <td>60.130001</td>\n",
       "      <td>60.130001</td>\n",
       "    </tr>\n",
       "    <tr>\n",
       "      <th>3</th>\n",
       "      <td>1960-01-07</td>\n",
       "      <td>59.689999</td>\n",
       "      <td>59.689999</td>\n",
       "      <td>59.689999</td>\n",
       "      <td>59.689999</td>\n",
       "    </tr>\n",
       "    <tr>\n",
       "      <th>4</th>\n",
       "      <td>1960-01-08</td>\n",
       "      <td>59.500000</td>\n",
       "      <td>59.500000</td>\n",
       "      <td>59.500000</td>\n",
       "      <td>59.500000</td>\n",
       "    </tr>\n",
       "    <tr>\n",
       "      <th>...</th>\n",
       "      <td>...</td>\n",
       "      <td>...</td>\n",
       "      <td>...</td>\n",
       "      <td>...</td>\n",
       "      <td>...</td>\n",
       "    </tr>\n",
       "    <tr>\n",
       "      <th>15349</th>\n",
       "      <td>2020-12-24</td>\n",
       "      <td>3694.030000</td>\n",
       "      <td>3703.820000</td>\n",
       "      <td>3689.320000</td>\n",
       "      <td>3703.060000</td>\n",
       "    </tr>\n",
       "    <tr>\n",
       "      <th>15350</th>\n",
       "      <td>2020-12-28</td>\n",
       "      <td>3723.030000</td>\n",
       "      <td>3740.510000</td>\n",
       "      <td>3723.030000</td>\n",
       "      <td>3735.360000</td>\n",
       "    </tr>\n",
       "    <tr>\n",
       "      <th>15351</th>\n",
       "      <td>2020-12-29</td>\n",
       "      <td>3750.010000</td>\n",
       "      <td>3756.120000</td>\n",
       "      <td>3723.310000</td>\n",
       "      <td>3727.040000</td>\n",
       "    </tr>\n",
       "    <tr>\n",
       "      <th>15352</th>\n",
       "      <td>2020-12-30</td>\n",
       "      <td>3736.190000</td>\n",
       "      <td>3744.630000</td>\n",
       "      <td>3730.210000</td>\n",
       "      <td>3732.040000</td>\n",
       "    </tr>\n",
       "    <tr>\n",
       "      <th>15353</th>\n",
       "      <td>2020-12-31</td>\n",
       "      <td>3733.270000</td>\n",
       "      <td>3760.200000</td>\n",
       "      <td>3726.880000</td>\n",
       "      <td>3756.070000</td>\n",
       "    </tr>\n",
       "  </tbody>\n",
       "</table>\n",
       "<p>15354 rows × 5 columns</p>\n",
       "</div>"
      ],
      "text/plain": [
       "            Date         Open         High          Low        Close\n",
       "0     1960-01-04    59.910000    59.910000    59.910000    59.910000\n",
       "1     1960-01-05    60.389999    60.389999    60.389999    60.389999\n",
       "2     1960-01-06    60.130001    60.130001    60.130001    60.130001\n",
       "3     1960-01-07    59.689999    59.689999    59.689999    59.689999\n",
       "4     1960-01-08    59.500000    59.500000    59.500000    59.500000\n",
       "...          ...          ...          ...          ...          ...\n",
       "15349 2020-12-24  3694.030000  3703.820000  3689.320000  3703.060000\n",
       "15350 2020-12-28  3723.030000  3740.510000  3723.030000  3735.360000\n",
       "15351 2020-12-29  3750.010000  3756.120000  3723.310000  3727.040000\n",
       "15352 2020-12-30  3736.190000  3744.630000  3730.210000  3732.040000\n",
       "15353 2020-12-31  3733.270000  3760.200000  3726.880000  3756.070000\n",
       "\n",
       "[15354 rows x 5 columns]"
      ]
     },
     "execution_count": 7,
     "metadata": {},
     "output_type": "execute_result"
    }
   ],
   "source": [
    "frames = [price_old, price_new]\n",
    "price = pd.concat(frames).reset_index(drop = True)\n",
    "price"
   ]
  },
  {
   "cell_type": "code",
   "execution_count": 8,
   "metadata": {},
   "outputs": [
    {
     "data": {
      "text/html": [
       "<div>\n",
       "<style scoped>\n",
       "    .dataframe tbody tr th:only-of-type {\n",
       "        vertical-align: middle;\n",
       "    }\n",
       "\n",
       "    .dataframe tbody tr th {\n",
       "        vertical-align: top;\n",
       "    }\n",
       "\n",
       "    .dataframe thead th {\n",
       "        text-align: right;\n",
       "    }\n",
       "</style>\n",
       "<table border=\"1\" class=\"dataframe\">\n",
       "  <thead>\n",
       "    <tr style=\"text-align: right;\">\n",
       "      <th></th>\n",
       "      <th>Date_PE</th>\n",
       "      <th>PE_CAPE</th>\n",
       "    </tr>\n",
       "  </thead>\n",
       "  <tbody>\n",
       "    <tr>\n",
       "      <th>0</th>\n",
       "      <td>1960.01</td>\n",
       "      <td>18.338285</td>\n",
       "    </tr>\n",
       "    <tr>\n",
       "      <th>1</th>\n",
       "      <td>1960.02</td>\n",
       "      <td>17.545275</td>\n",
       "    </tr>\n",
       "    <tr>\n",
       "      <th>2</th>\n",
       "      <td>1960.03</td>\n",
       "      <td>17.286021</td>\n",
       "    </tr>\n",
       "    <tr>\n",
       "      <th>3</th>\n",
       "      <td>1960.04</td>\n",
       "      <td>17.429767</td>\n",
       "    </tr>\n",
       "    <tr>\n",
       "      <th>4</th>\n",
       "      <td>1960.05</td>\n",
       "      <td>17.256171</td>\n",
       "    </tr>\n",
       "    <tr>\n",
       "      <th>...</th>\n",
       "      <td>...</td>\n",
       "      <td>...</td>\n",
       "    </tr>\n",
       "    <tr>\n",
       "      <th>727</th>\n",
       "      <td>2020.08</td>\n",
       "      <td>31.152309</td>\n",
       "    </tr>\n",
       "    <tr>\n",
       "      <th>728</th>\n",
       "      <td>2020.09</td>\n",
       "      <td>30.833593</td>\n",
       "    </tr>\n",
       "    <tr>\n",
       "      <th>729</th>\n",
       "      <td>2020.10</td>\n",
       "      <td>31.277783</td>\n",
       "    </tr>\n",
       "    <tr>\n",
       "      <th>730</th>\n",
       "      <td>2020.11</td>\n",
       "      <td>32.471647</td>\n",
       "    </tr>\n",
       "    <tr>\n",
       "      <th>731</th>\n",
       "      <td>2020.12</td>\n",
       "      <td>33.769789</td>\n",
       "    </tr>\n",
       "  </tbody>\n",
       "</table>\n",
       "<p>732 rows × 2 columns</p>\n",
       "</div>"
      ],
      "text/plain": [
       "     Date_PE    PE_CAPE\n",
       "0    1960.01  18.338285\n",
       "1    1960.02  17.545275\n",
       "2    1960.03  17.286021\n",
       "3    1960.04  17.429767\n",
       "4    1960.05  17.256171\n",
       "..       ...        ...\n",
       "727  2020.08  31.152309\n",
       "728  2020.09  30.833593\n",
       "729  2020.10  31.277783\n",
       "730  2020.11  32.471647\n",
       "731  2020.12  33.769789\n",
       "\n",
       "[732 rows x 2 columns]"
      ]
     },
     "execution_count": 8,
     "metadata": {},
     "output_type": "execute_result"
    }
   ],
   "source": [
    "pe=pe.rename({'Date':'Date_PE'},axis=1)\n",
    "pe"
   ]
  },
  {
   "cell_type": "code",
   "execution_count": 9,
   "metadata": {},
   "outputs": [
    {
     "data": {
      "text/html": [
       "<div>\n",
       "<style scoped>\n",
       "    .dataframe tbody tr th:only-of-type {\n",
       "        vertical-align: middle;\n",
       "    }\n",
       "\n",
       "    .dataframe tbody tr th {\n",
       "        vertical-align: top;\n",
       "    }\n",
       "\n",
       "    .dataframe thead th {\n",
       "        text-align: right;\n",
       "    }\n",
       "</style>\n",
       "<table border=\"1\" class=\"dataframe\">\n",
       "  <thead>\n",
       "    <tr style=\"text-align: right;\">\n",
       "      <th></th>\n",
       "      <th>Date</th>\n",
       "      <th>Open</th>\n",
       "      <th>High</th>\n",
       "      <th>Low</th>\n",
       "      <th>Close</th>\n",
       "    </tr>\n",
       "  </thead>\n",
       "  <tbody>\n",
       "    <tr>\n",
       "      <th>0</th>\n",
       "      <td>1960-01-04</td>\n",
       "      <td>59.910000</td>\n",
       "      <td>59.910000</td>\n",
       "      <td>59.910000</td>\n",
       "      <td>59.910000</td>\n",
       "    </tr>\n",
       "    <tr>\n",
       "      <th>1</th>\n",
       "      <td>1960-01-05</td>\n",
       "      <td>60.389999</td>\n",
       "      <td>60.389999</td>\n",
       "      <td>60.389999</td>\n",
       "      <td>60.389999</td>\n",
       "    </tr>\n",
       "    <tr>\n",
       "      <th>2</th>\n",
       "      <td>1960-01-06</td>\n",
       "      <td>60.130001</td>\n",
       "      <td>60.130001</td>\n",
       "      <td>60.130001</td>\n",
       "      <td>60.130001</td>\n",
       "    </tr>\n",
       "    <tr>\n",
       "      <th>3</th>\n",
       "      <td>1960-01-07</td>\n",
       "      <td>59.689999</td>\n",
       "      <td>59.689999</td>\n",
       "      <td>59.689999</td>\n",
       "      <td>59.689999</td>\n",
       "    </tr>\n",
       "    <tr>\n",
       "      <th>4</th>\n",
       "      <td>1960-01-08</td>\n",
       "      <td>59.500000</td>\n",
       "      <td>59.500000</td>\n",
       "      <td>59.500000</td>\n",
       "      <td>59.500000</td>\n",
       "    </tr>\n",
       "    <tr>\n",
       "      <th>...</th>\n",
       "      <td>...</td>\n",
       "      <td>...</td>\n",
       "      <td>...</td>\n",
       "      <td>...</td>\n",
       "      <td>...</td>\n",
       "    </tr>\n",
       "    <tr>\n",
       "      <th>15349</th>\n",
       "      <td>2020-12-24</td>\n",
       "      <td>3694.030000</td>\n",
       "      <td>3703.820000</td>\n",
       "      <td>3689.320000</td>\n",
       "      <td>3703.060000</td>\n",
       "    </tr>\n",
       "    <tr>\n",
       "      <th>15350</th>\n",
       "      <td>2020-12-28</td>\n",
       "      <td>3723.030000</td>\n",
       "      <td>3740.510000</td>\n",
       "      <td>3723.030000</td>\n",
       "      <td>3735.360000</td>\n",
       "    </tr>\n",
       "    <tr>\n",
       "      <th>15351</th>\n",
       "      <td>2020-12-29</td>\n",
       "      <td>3750.010000</td>\n",
       "      <td>3756.120000</td>\n",
       "      <td>3723.310000</td>\n",
       "      <td>3727.040000</td>\n",
       "    </tr>\n",
       "    <tr>\n",
       "      <th>15352</th>\n",
       "      <td>2020-12-30</td>\n",
       "      <td>3736.190000</td>\n",
       "      <td>3744.630000</td>\n",
       "      <td>3730.210000</td>\n",
       "      <td>3732.040000</td>\n",
       "    </tr>\n",
       "    <tr>\n",
       "      <th>15353</th>\n",
       "      <td>2020-12-31</td>\n",
       "      <td>3733.270000</td>\n",
       "      <td>3760.200000</td>\n",
       "      <td>3726.880000</td>\n",
       "      <td>3756.070000</td>\n",
       "    </tr>\n",
       "  </tbody>\n",
       "</table>\n",
       "<p>15354 rows × 5 columns</p>\n",
       "</div>"
      ],
      "text/plain": [
       "            Date         Open         High          Low        Close\n",
       "0     1960-01-04    59.910000    59.910000    59.910000    59.910000\n",
       "1     1960-01-05    60.389999    60.389999    60.389999    60.389999\n",
       "2     1960-01-06    60.130001    60.130001    60.130001    60.130001\n",
       "3     1960-01-07    59.689999    59.689999    59.689999    59.689999\n",
       "4     1960-01-08    59.500000    59.500000    59.500000    59.500000\n",
       "...          ...          ...          ...          ...          ...\n",
       "15349 2020-12-24  3694.030000  3703.820000  3689.320000  3703.060000\n",
       "15350 2020-12-28  3723.030000  3740.510000  3723.030000  3735.360000\n",
       "15351 2020-12-29  3750.010000  3756.120000  3723.310000  3727.040000\n",
       "15352 2020-12-30  3736.190000  3744.630000  3730.210000  3732.040000\n",
       "15353 2020-12-31  3733.270000  3760.200000  3726.880000  3756.070000\n",
       "\n",
       "[15354 rows x 5 columns]"
      ]
     },
     "execution_count": 9,
     "metadata": {},
     "output_type": "execute_result"
    }
   ],
   "source": [
    "price"
   ]
  },
  {
   "cell_type": "code",
   "execution_count": 10,
   "metadata": {},
   "outputs": [
    {
     "data": {
      "text/plain": [
       "1960"
      ]
     },
     "execution_count": 10,
     "metadata": {},
     "output_type": "execute_result"
    }
   ],
   "source": [
    "i = 0\n",
    "month = price['Date'][i].month\n",
    "month\n",
    "year = price['Date'][i].year\n",
    "year"
   ]
  },
  {
   "cell_type": "code",
   "execution_count": 11,
   "metadata": {},
   "outputs": [],
   "source": [
    "price['Date_PE']=0.0\n",
    "for i in range(price.shape[0]):\n",
    "#     month=int(price['Date'][i][0:2])\n",
    "#     year=int(price['Date'][i][-2:])\n",
    "    month = price['Date'][i].month\n",
    "    year = price['Date'][i].year\n",
    "    price.loc[i, 'Date_PE']=year+month*0.01"
   ]
  },
  {
   "cell_type": "code",
   "execution_count": 12,
   "metadata": {},
   "outputs": [
    {
     "data": {
      "text/html": [
       "<div>\n",
       "<style scoped>\n",
       "    .dataframe tbody tr th:only-of-type {\n",
       "        vertical-align: middle;\n",
       "    }\n",
       "\n",
       "    .dataframe tbody tr th {\n",
       "        vertical-align: top;\n",
       "    }\n",
       "\n",
       "    .dataframe thead th {\n",
       "        text-align: right;\n",
       "    }\n",
       "</style>\n",
       "<table border=\"1\" class=\"dataframe\">\n",
       "  <thead>\n",
       "    <tr style=\"text-align: right;\">\n",
       "      <th></th>\n",
       "      <th>Date</th>\n",
       "      <th>Open</th>\n",
       "      <th>High</th>\n",
       "      <th>Low</th>\n",
       "      <th>Close</th>\n",
       "      <th>Date_PE</th>\n",
       "    </tr>\n",
       "  </thead>\n",
       "  <tbody>\n",
       "    <tr>\n",
       "      <th>0</th>\n",
       "      <td>1960-01-04</td>\n",
       "      <td>59.910000</td>\n",
       "      <td>59.910000</td>\n",
       "      <td>59.910000</td>\n",
       "      <td>59.910000</td>\n",
       "      <td>1960.01</td>\n",
       "    </tr>\n",
       "    <tr>\n",
       "      <th>1</th>\n",
       "      <td>1960-01-05</td>\n",
       "      <td>60.389999</td>\n",
       "      <td>60.389999</td>\n",
       "      <td>60.389999</td>\n",
       "      <td>60.389999</td>\n",
       "      <td>1960.01</td>\n",
       "    </tr>\n",
       "    <tr>\n",
       "      <th>2</th>\n",
       "      <td>1960-01-06</td>\n",
       "      <td>60.130001</td>\n",
       "      <td>60.130001</td>\n",
       "      <td>60.130001</td>\n",
       "      <td>60.130001</td>\n",
       "      <td>1960.01</td>\n",
       "    </tr>\n",
       "    <tr>\n",
       "      <th>3</th>\n",
       "      <td>1960-01-07</td>\n",
       "      <td>59.689999</td>\n",
       "      <td>59.689999</td>\n",
       "      <td>59.689999</td>\n",
       "      <td>59.689999</td>\n",
       "      <td>1960.01</td>\n",
       "    </tr>\n",
       "    <tr>\n",
       "      <th>4</th>\n",
       "      <td>1960-01-08</td>\n",
       "      <td>59.500000</td>\n",
       "      <td>59.500000</td>\n",
       "      <td>59.500000</td>\n",
       "      <td>59.500000</td>\n",
       "      <td>1960.01</td>\n",
       "    </tr>\n",
       "    <tr>\n",
       "      <th>...</th>\n",
       "      <td>...</td>\n",
       "      <td>...</td>\n",
       "      <td>...</td>\n",
       "      <td>...</td>\n",
       "      <td>...</td>\n",
       "      <td>...</td>\n",
       "    </tr>\n",
       "    <tr>\n",
       "      <th>15349</th>\n",
       "      <td>2020-12-24</td>\n",
       "      <td>3694.030000</td>\n",
       "      <td>3703.820000</td>\n",
       "      <td>3689.320000</td>\n",
       "      <td>3703.060000</td>\n",
       "      <td>2020.12</td>\n",
       "    </tr>\n",
       "    <tr>\n",
       "      <th>15350</th>\n",
       "      <td>2020-12-28</td>\n",
       "      <td>3723.030000</td>\n",
       "      <td>3740.510000</td>\n",
       "      <td>3723.030000</td>\n",
       "      <td>3735.360000</td>\n",
       "      <td>2020.12</td>\n",
       "    </tr>\n",
       "    <tr>\n",
       "      <th>15351</th>\n",
       "      <td>2020-12-29</td>\n",
       "      <td>3750.010000</td>\n",
       "      <td>3756.120000</td>\n",
       "      <td>3723.310000</td>\n",
       "      <td>3727.040000</td>\n",
       "      <td>2020.12</td>\n",
       "    </tr>\n",
       "    <tr>\n",
       "      <th>15352</th>\n",
       "      <td>2020-12-30</td>\n",
       "      <td>3736.190000</td>\n",
       "      <td>3744.630000</td>\n",
       "      <td>3730.210000</td>\n",
       "      <td>3732.040000</td>\n",
       "      <td>2020.12</td>\n",
       "    </tr>\n",
       "    <tr>\n",
       "      <th>15353</th>\n",
       "      <td>2020-12-31</td>\n",
       "      <td>3733.270000</td>\n",
       "      <td>3760.200000</td>\n",
       "      <td>3726.880000</td>\n",
       "      <td>3756.070000</td>\n",
       "      <td>2020.12</td>\n",
       "    </tr>\n",
       "  </tbody>\n",
       "</table>\n",
       "<p>15354 rows × 6 columns</p>\n",
       "</div>"
      ],
      "text/plain": [
       "            Date         Open         High          Low        Close  Date_PE\n",
       "0     1960-01-04    59.910000    59.910000    59.910000    59.910000  1960.01\n",
       "1     1960-01-05    60.389999    60.389999    60.389999    60.389999  1960.01\n",
       "2     1960-01-06    60.130001    60.130001    60.130001    60.130001  1960.01\n",
       "3     1960-01-07    59.689999    59.689999    59.689999    59.689999  1960.01\n",
       "4     1960-01-08    59.500000    59.500000    59.500000    59.500000  1960.01\n",
       "...          ...          ...          ...          ...          ...      ...\n",
       "15349 2020-12-24  3694.030000  3703.820000  3689.320000  3703.060000  2020.12\n",
       "15350 2020-12-28  3723.030000  3740.510000  3723.030000  3735.360000  2020.12\n",
       "15351 2020-12-29  3750.010000  3756.120000  3723.310000  3727.040000  2020.12\n",
       "15352 2020-12-30  3736.190000  3744.630000  3730.210000  3732.040000  2020.12\n",
       "15353 2020-12-31  3733.270000  3760.200000  3726.880000  3756.070000  2020.12\n",
       "\n",
       "[15354 rows x 6 columns]"
      ]
     },
     "execution_count": 12,
     "metadata": {},
     "output_type": "execute_result"
    }
   ],
   "source": [
    "price"
   ]
  },
  {
   "cell_type": "code",
   "execution_count": 13,
   "metadata": {},
   "outputs": [],
   "source": [
    "# merge sp500 data with the Schiller P/E ratio based on Date.\n",
    "data_full = pd.merge(price, pe, how='left', on='Date_PE')\n",
    "data_full = data_full.drop(['Date_PE' ], 1)"
   ]
  },
  {
   "cell_type": "code",
   "execution_count": 14,
   "metadata": {},
   "outputs": [],
   "source": [
    "# save the merged dataset\n",
    "data_full.to_csv('Price_PE.csv')"
   ]
  },
  {
   "cell_type": "code",
   "execution_count": 15,
   "metadata": {},
   "outputs": [
    {
     "data": {
      "text/html": [
       "<div>\n",
       "<style scoped>\n",
       "    .dataframe tbody tr th:only-of-type {\n",
       "        vertical-align: middle;\n",
       "    }\n",
       "\n",
       "    .dataframe tbody tr th {\n",
       "        vertical-align: top;\n",
       "    }\n",
       "\n",
       "    .dataframe thead th {\n",
       "        text-align: right;\n",
       "    }\n",
       "</style>\n",
       "<table border=\"1\" class=\"dataframe\">\n",
       "  <thead>\n",
       "    <tr style=\"text-align: right;\">\n",
       "      <th></th>\n",
       "      <th>Date</th>\n",
       "      <th>Open</th>\n",
       "      <th>High</th>\n",
       "      <th>Low</th>\n",
       "      <th>Close</th>\n",
       "      <th>PE_CAPE</th>\n",
       "    </tr>\n",
       "  </thead>\n",
       "  <tbody>\n",
       "    <tr>\n",
       "      <th>0</th>\n",
       "      <td>1960-01-04</td>\n",
       "      <td>59.910000</td>\n",
       "      <td>59.910000</td>\n",
       "      <td>59.910000</td>\n",
       "      <td>59.910000</td>\n",
       "      <td>18.338285</td>\n",
       "    </tr>\n",
       "    <tr>\n",
       "      <th>1</th>\n",
       "      <td>1960-01-05</td>\n",
       "      <td>60.389999</td>\n",
       "      <td>60.389999</td>\n",
       "      <td>60.389999</td>\n",
       "      <td>60.389999</td>\n",
       "      <td>18.338285</td>\n",
       "    </tr>\n",
       "    <tr>\n",
       "      <th>2</th>\n",
       "      <td>1960-01-06</td>\n",
       "      <td>60.130001</td>\n",
       "      <td>60.130001</td>\n",
       "      <td>60.130001</td>\n",
       "      <td>60.130001</td>\n",
       "      <td>18.338285</td>\n",
       "    </tr>\n",
       "    <tr>\n",
       "      <th>3</th>\n",
       "      <td>1960-01-07</td>\n",
       "      <td>59.689999</td>\n",
       "      <td>59.689999</td>\n",
       "      <td>59.689999</td>\n",
       "      <td>59.689999</td>\n",
       "      <td>18.338285</td>\n",
       "    </tr>\n",
       "    <tr>\n",
       "      <th>4</th>\n",
       "      <td>1960-01-08</td>\n",
       "      <td>59.500000</td>\n",
       "      <td>59.500000</td>\n",
       "      <td>59.500000</td>\n",
       "      <td>59.500000</td>\n",
       "      <td>18.338285</td>\n",
       "    </tr>\n",
       "    <tr>\n",
       "      <th>...</th>\n",
       "      <td>...</td>\n",
       "      <td>...</td>\n",
       "      <td>...</td>\n",
       "      <td>...</td>\n",
       "      <td>...</td>\n",
       "      <td>...</td>\n",
       "    </tr>\n",
       "    <tr>\n",
       "      <th>15349</th>\n",
       "      <td>2020-12-24</td>\n",
       "      <td>3694.030000</td>\n",
       "      <td>3703.820000</td>\n",
       "      <td>3689.320000</td>\n",
       "      <td>3703.060000</td>\n",
       "      <td>33.769789</td>\n",
       "    </tr>\n",
       "    <tr>\n",
       "      <th>15350</th>\n",
       "      <td>2020-12-28</td>\n",
       "      <td>3723.030000</td>\n",
       "      <td>3740.510000</td>\n",
       "      <td>3723.030000</td>\n",
       "      <td>3735.360000</td>\n",
       "      <td>33.769789</td>\n",
       "    </tr>\n",
       "    <tr>\n",
       "      <th>15351</th>\n",
       "      <td>2020-12-29</td>\n",
       "      <td>3750.010000</td>\n",
       "      <td>3756.120000</td>\n",
       "      <td>3723.310000</td>\n",
       "      <td>3727.040000</td>\n",
       "      <td>33.769789</td>\n",
       "    </tr>\n",
       "    <tr>\n",
       "      <th>15352</th>\n",
       "      <td>2020-12-30</td>\n",
       "      <td>3736.190000</td>\n",
       "      <td>3744.630000</td>\n",
       "      <td>3730.210000</td>\n",
       "      <td>3732.040000</td>\n",
       "      <td>33.769789</td>\n",
       "    </tr>\n",
       "    <tr>\n",
       "      <th>15353</th>\n",
       "      <td>2020-12-31</td>\n",
       "      <td>3733.270000</td>\n",
       "      <td>3760.200000</td>\n",
       "      <td>3726.880000</td>\n",
       "      <td>3756.070000</td>\n",
       "      <td>33.769789</td>\n",
       "    </tr>\n",
       "  </tbody>\n",
       "</table>\n",
       "<p>15354 rows × 6 columns</p>\n",
       "</div>"
      ],
      "text/plain": [
       "            Date         Open         High          Low        Close  \\\n",
       "0     1960-01-04    59.910000    59.910000    59.910000    59.910000   \n",
       "1     1960-01-05    60.389999    60.389999    60.389999    60.389999   \n",
       "2     1960-01-06    60.130001    60.130001    60.130001    60.130001   \n",
       "3     1960-01-07    59.689999    59.689999    59.689999    59.689999   \n",
       "4     1960-01-08    59.500000    59.500000    59.500000    59.500000   \n",
       "...          ...          ...          ...          ...          ...   \n",
       "15349 2020-12-24  3694.030000  3703.820000  3689.320000  3703.060000   \n",
       "15350 2020-12-28  3723.030000  3740.510000  3723.030000  3735.360000   \n",
       "15351 2020-12-29  3750.010000  3756.120000  3723.310000  3727.040000   \n",
       "15352 2020-12-30  3736.190000  3744.630000  3730.210000  3732.040000   \n",
       "15353 2020-12-31  3733.270000  3760.200000  3726.880000  3756.070000   \n",
       "\n",
       "         PE_CAPE  \n",
       "0      18.338285  \n",
       "1      18.338285  \n",
       "2      18.338285  \n",
       "3      18.338285  \n",
       "4      18.338285  \n",
       "...          ...  \n",
       "15349  33.769789  \n",
       "15350  33.769789  \n",
       "15351  33.769789  \n",
       "15352  33.769789  \n",
       "15353  33.769789  \n",
       "\n",
       "[15354 rows x 6 columns]"
      ]
     },
     "execution_count": 15,
     "metadata": {},
     "output_type": "execute_result"
    }
   ],
   "source": [
    "data_full"
   ]
  },
  {
   "cell_type": "markdown",
   "metadata": {},
   "source": [
    "### Make an overlay of the Schiller P/E onto the S&P500 for the same period."
   ]
  },
  {
   "cell_type": "code",
   "execution_count": 16,
   "metadata": {},
   "outputs": [
    {
     "data": {
      "image/png": "[encoded data removed]",
      "text/plain": [
       "<Figure size 1080x360 with 2 Axes>"
      ]
     },
     "metadata": {
      "needs_background": "light"
     },
     "output_type": "display_data"
    }
   ],
   "source": [
    "plt.figure(figsize=(15, 5));\n",
    "plt.plot(data_full.Date, data_full.Open.values, color='grey', label='Open')\n",
    "plt.plot(data_full.Date, data_full.Close.values, color='black', label='Close')\n",
    "plt.plot(data_full.Date, data_full.Low.values, color='red', label='Low')\n",
    "plt.plot(data_full.Date, data_full.High.values, color='green', label='High')\n",
    "plt.title('S&P 500 price and Shiller PE Ratio')\n",
    "plt.xlabel('Date')\n",
    "plt.ylabel('S&P 500 price')\n",
    "plt.legend(loc='best')\n",
    "# twin object for two different y-axis on the sample plot\n",
    "ax2=plt.twinx()\n",
    "# make a plot with different y-axis using second axis object\n",
    "ax2.plot(data_full.Date, data_full.PE_CAPE.values,color=\"blue\")\n",
    "ax2.set_ylabel(\"Shiller PE Ratio\",color=\"blue\",fontsize=14)\n",
    "plt.show()"
   ]
  },
  {
   "cell_type": "markdown",
   "metadata": {},
   "source": [
    "#### Here, we are only using ClOSE price and Cyclicily adjusted PE-ratio to train the model"
   ]
  },
  {
   "cell_type": "code",
   "execution_count": 17,
   "metadata": {},
   "outputs": [
    {
     "data": {
      "text/plain": [
       "array([[  59.91      ,   18.33828499],\n",
       "       [  60.389999  ,   18.33828499],\n",
       "       [  60.130001  ,   18.33828499],\n",
       "       ...,\n",
       "       [3727.04      ,   33.76978942],\n",
       "       [3732.04      ,   33.76978942],\n",
       "       [3756.07      ,   33.76978942]])"
      ]
     },
     "execution_count": 17,
     "metadata": {},
     "output_type": "execute_result"
    }
   ],
   "source": [
    "dataset = data_full[ ['Close', 'PE_CAPE']].values\n",
    "dataset"
   ]
  },
  {
   "cell_type": "code",
   "execution_count": 18,
   "metadata": {},
   "outputs": [],
   "source": [
    "date_data= data_full[ ['Date']].values"
   ]
  },
  {
   "cell_type": "code",
   "execution_count": 19,
   "metadata": {},
   "outputs": [
    {
     "data": {
      "text/plain": [
       "array([[0.00208161, 0.31149771],\n",
       "       [0.0022112 , 0.31149771],\n",
       "       [0.002141  , 0.31149771],\n",
       "       ...,\n",
       "       [0.99216225, 0.72235494],\n",
       "       [0.99351219, 0.72235494],\n",
       "       [1.        , 0.72235494]])"
      ]
     },
     "execution_count": 19,
     "metadata": {},
     "output_type": "execute_result"
    }
   ],
   "source": [
    "# Feature Scaling: min-max normalization of features\n",
    "sc = MinMaxScaler(feature_range = (0, 1))\n",
    "dataset_scaled = sc.fit_transform(dataset)\n",
    "dataset_scaled"
   ]
  },
  {
   "cell_type": "code",
   "execution_count": 20,
   "metadata": {},
   "outputs": [
    {
     "data": {
      "text/plain": [
       "(15354, 2)"
      ]
     },
     "execution_count": 20,
     "metadata": {},
     "output_type": "execute_result"
    }
   ],
   "source": [
    "dataset.shape"
   ]
  },
  {
   "cell_type": "code",
   "execution_count": 21,
   "metadata": {},
   "outputs": [
    {
     "data": {
      "text/plain": [
       "(15354, 2)"
      ]
     },
     "execution_count": 21,
     "metadata": {},
     "output_type": "execute_result"
    }
   ],
   "source": [
    "# number of timepoint and number of feature\n",
    "n_rows, n_cols = dataset_scaled.shape\n",
    "(n_rows,n_cols)"
   ]
  },
  {
   "cell_type": "markdown",
   "metadata": {},
   "source": [
    "#### The S&P 500 index increases in time, bringing about the problem that most values in the test set are out of the scale of the train set and thus the model has to predict some numbers it has never seen before."
   ]
  },
  {
   "cell_type": "markdown",
   "metadata": {},
   "source": [
    "## Step 2 - Design and develop RNN in Python, using libraries such as PyTorch (and, if necessary, Tensor Flow). "
   ]
  },
  {
   "cell_type": "code",
   "execution_count": 22,
   "metadata": {},
   "outputs": [],
   "source": [
    "#Data format setting\n",
    "# The number of expected features in the input x is 2\n",
    "input_size = 2\n",
    "hidden_size = 32\n",
    "num_layers = 2\n",
    "output_size = 4\n",
    "num_epochs = 100\n",
    "learning_rate = 0.001\n",
    "# sequence length is 180\n",
    "window_size = 180"
   ]
  },
  {
   "cell_type": "code",
   "execution_count": 23,
   "metadata": {},
   "outputs": [],
   "source": [
    "# Creating a data structure with 180 timesteps and 4 output\n",
    "X_full = []\n",
    "y_full = []\n",
    "date_full = []\n",
    "for i in range( n_rows - window_size - output_size +1):\n",
    "    X_full.append(dataset_scaled[i:i+window_size, ])\n",
    "    y_full.append(dataset_scaled[i+window_size: i+window_size+output_size, 0])\n",
    "    date_full.append(date_data[i+window_size])\n",
    "    \n",
    "X_full, y_full, date_full = np.array(X_full), np.array(y_full), np.array(date_full)\n",
    "y_full = np.reshape(y_full, (y_full.shape[0], 1, y_full.shape[1]))"
   ]
  },
  {
   "cell_type": "code",
   "execution_count": 24,
   "metadata": {},
   "outputs": [
    {
     "data": {
      "text/plain": [
       "(15171, 180, 2)"
      ]
     },
     "execution_count": 24,
     "metadata": {},
     "output_type": "execute_result"
    }
   ],
   "source": [
    "X_full.shape"
   ]
  },
  {
   "cell_type": "code",
   "execution_count": 25,
   "metadata": {},
   "outputs": [
    {
     "data": {
      "text/plain": [
       "(15171, 1, 4)"
      ]
     },
     "execution_count": 25,
     "metadata": {},
     "output_type": "execute_result"
    }
   ],
   "source": [
    "y_full.shape"
   ]
  },
  {
   "cell_type": "code",
   "execution_count": 26,
   "metadata": {},
   "outputs": [
    {
     "data": {
      "text/plain": [
       "array([['1960-09-19T00:00:00.000000000'],\n",
       "       ['1960-09-20T00:00:00.000000000'],\n",
       "       ['1960-09-21T00:00:00.000000000'],\n",
       "       ...,\n",
       "       ['2020-12-23T00:00:00.000000000'],\n",
       "       ['2020-12-24T00:00:00.000000000'],\n",
       "       ['2020-12-28T00:00:00.000000000']], dtype='datetime64[ns]')"
      ]
     },
     "execution_count": 26,
     "metadata": {},
     "output_type": "execute_result"
    }
   ],
   "source": [
    "date_full"
   ]
  },
  {
   "cell_type": "markdown",
   "metadata": {},
   "source": [
    "### The NYSE and NASDAQ average about 253 trading days a year. We use 10\\% for testing, i.e. first 200 days for training, and consecutive 53 datapoints for testing."
   ]
  },
  {
   "cell_type": "code",
   "execution_count": 27,
   "metadata": {},
   "outputs": [],
   "source": [
    "X_train = []; y_train = []; date_train = []\n",
    "X_test = []; y_test = []; date_test = []\n",
    "for i in range(X_full.shape[0]):\n",
    "    if(i  %  253 >= 200):\n",
    "        X_test.append(X_full[i])\n",
    "        y_test.append(y_full[i])\n",
    "        date_test.append(date_full[i])\n",
    "    else:\n",
    "        X_train.append(X_full[i])\n",
    "        y_train.append(y_full[i])\n",
    "        date_train.append(date_full[i])\n",
    "X_train, y_train, date_train = np.array(X_train), np.array(y_train), np.array(date_train)          \n",
    "X_test, y_test, date_test = np.array(X_test), np.array(y_test), np.array(date_test)                "
   ]
  },
  {
   "cell_type": "code",
   "execution_count": 28,
   "metadata": {},
   "outputs": [
    {
     "data": {
      "text/plain": [
       "(12000, 180, 2)"
      ]
     },
     "execution_count": 28,
     "metadata": {},
     "output_type": "execute_result"
    }
   ],
   "source": [
    "# Input shape --> (Batch Size, Sequence Length, One-Hot Encoding Size)\n",
    "X_train.shape"
   ]
  },
  {
   "cell_type": "code",
   "execution_count": 29,
   "metadata": {},
   "outputs": [
    {
     "data": {
      "text/plain": [
       "(3171, 180, 2)"
      ]
     },
     "execution_count": 29,
     "metadata": {},
     "output_type": "execute_result"
    }
   ],
   "source": [
    "X_test.shape"
   ]
  },
  {
   "cell_type": "code",
   "execution_count": 30,
   "metadata": {},
   "outputs": [
    {
     "data": {
      "text/plain": [
       "(12000, 1, 4)"
      ]
     },
     "execution_count": 30,
     "metadata": {},
     "output_type": "execute_result"
    }
   ],
   "source": [
    "y_train.shape"
   ]
  },
  {
   "cell_type": "code",
   "execution_count": 31,
   "metadata": {},
   "outputs": [
    {
     "data": {
      "text/plain": [
       "(3171, 1, 4)"
      ]
     },
     "execution_count": 31,
     "metadata": {},
     "output_type": "execute_result"
    }
   ],
   "source": [
    "y_test.shape"
   ]
  },
  {
   "cell_type": "code",
   "execution_count": 32,
   "metadata": {},
   "outputs": [],
   "source": [
    "class Model(nn.Module):\n",
    "    def __init__(self, input_size, output_size, hidden_dim, n_layers):\n",
    "        super(Model, self).__init__()\n",
    "\n",
    "        # Defining some parameters\n",
    "        self.hidden_dim = hidden_dim\n",
    "        self.n_layers = n_layers\n",
    "\n",
    "        #Defining the layers\n",
    "        # RNN Layer\n",
    "        self.rnn = nn.RNN(input_size, hidden_dim, n_layers, batch_first=True)   \n",
    "        # Fully connected layer\n",
    "        self.fc = nn.Linear(hidden_dim, output_size)\n",
    "    \n",
    "    def forward(self, x):\n",
    "        \n",
    "        batch_size = x.size(0)\n",
    "\n",
    "        # Initializing hidden state for first input using method defined below\n",
    "        hidden = self.init_hidden(batch_size)\n",
    "\n",
    "        # Passing in the input and hidden state into the model and obtaining outputs\n",
    "        out, hidden = self.rnn(x, hidden)\n",
    "        \n",
    "        # Reshaping the outputs such that it can be fit into the fully connected layer\n",
    "#         out = out.contiguous().view(-1, self.hidden_dim)\n",
    "        out = self.fc(out)\n",
    "        #just want last time step output \n",
    "        return out[:, -1, :], hidden\n",
    "    \n",
    "    def init_hidden(self, batch_size):\n",
    "        # This method generates the first hidden state of zeros which we'll use in the forward pass\n",
    "        # We'll send the tensor holding the hidden state to the device we specified earlier as well\n",
    "        hidden = torch.zeros(self.n_layers, batch_size, self.hidden_dim)\n",
    "        return hidden"
   ]
  },
  {
   "cell_type": "code",
   "execution_count": 33,
   "metadata": {},
   "outputs": [],
   "source": [
    "rnn = Model (input_size, output_size, hidden_size, num_layers)\n",
    "#set the model to the device that we defined earlier (default is CPU)\n",
    "optimiser = torch.optim.Adam(rnn.parameters(), lr=learning_rate)\n",
    "criterion = nn.MSELoss()"
   ]
  },
  {
   "cell_type": "code",
   "execution_count": 34,
   "metadata": {},
   "outputs": [
    {
     "data": {
      "text/plain": [
       "Model(\n",
       "  (rnn): RNN(2, 32, num_layers=2, batch_first=True)\n",
       "  (fc): Linear(in_features=32, out_features=4, bias=True)\n",
       ")"
      ]
     },
     "execution_count": 34,
     "metadata": {},
     "output_type": "execute_result"
    }
   ],
   "source": [
    "rnn"
   ]
  },
  {
   "cell_type": "markdown",
   "metadata": {},
   "source": [
    "## Step 3 - Train your RNN using time window 180"
   ]
  },
  {
   "cell_type": "code",
   "execution_count": 35,
   "metadata": {},
   "outputs": [
    {
     "name": "stdout",
     "output_type": "stream",
     "text": [
      "Epoch  0 MSE:  0.07523393630981445\n",
      "Epoch  1 MSE:  0.0630783811211586\n",
      "Epoch  2 MSE:  0.05362064763903618\n",
      "Epoch  3 MSE:  0.04677559435367584\n",
      "Epoch  4 MSE:  0.042214665561914444\n",
      "Epoch  5 MSE:  0.03941700980067253\n",
      "Epoch  6 MSE:  0.037749893963336945\n",
      "Epoch  7 MSE:  0.036607787013053894\n",
      "Epoch  8 MSE:  0.03556424379348755\n",
      "Epoch  9 MSE:  0.034443460404872894\n",
      "Epoch  10 MSE:  0.033261530101299286\n",
      "Epoch  11 MSE:  0.03209265321493149\n",
      "Epoch  12 MSE:  0.0309552401304245\n",
      "Epoch  13 MSE:  0.029781632125377655\n",
      "Epoch  14 MSE:  0.028460968285799026\n",
      "Epoch  15 MSE:  0.02689768560230732\n",
      "Epoch  16 MSE:  0.02504851296544075\n",
      "Epoch  17 MSE:  0.022936876863241196\n",
      "Epoch  18 MSE:  0.020652100443840027\n",
      "Epoch  19 MSE:  0.01833253726363182\n",
      "Epoch  20 MSE:  0.01612769439816475\n",
      "Epoch  21 MSE:  0.014147995039820671\n",
      "Epoch  22 MSE:  0.012445365078747272\n",
      "Epoch  23 MSE:  0.011077857576310635\n",
      "Epoch  24 MSE:  0.010206461884081364\n",
      "Epoch  25 MSE:  0.01000011432915926\n",
      "Epoch  26 MSE:  0.010251928120851517\n",
      "Epoch  27 MSE:  0.010363237001001835\n",
      "Epoch  28 MSE:  0.010028191842138767\n",
      "Epoch  29 MSE:  0.009343340992927551\n",
      "Epoch  30 MSE:  0.00839946884661913\n",
      "Epoch  31 MSE:  0.007271121256053448\n",
      "Epoch  32 MSE:  0.006195975001901388\n",
      "Epoch  33 MSE:  0.005406445823609829\n",
      "Epoch  34 MSE:  0.0048926700837910175\n",
      "Epoch  35 MSE:  0.004499456845223904\n",
      "Epoch  36 MSE:  0.004155720584094524\n",
      "Epoch  37 MSE:  0.0038880230858922005\n",
      "Epoch  38 MSE:  0.003682210575789213\n",
      "Epoch  39 MSE:  0.0034453561529517174\n",
      "Epoch  40 MSE:  0.0031238170340657234\n",
      "Epoch  41 MSE:  0.002772377338260412\n",
      "Epoch  42 MSE:  0.0024599439930170774\n",
      "Epoch  43 MSE:  0.002175702014937997\n",
      "Epoch  44 MSE:  0.0018958066357299685\n",
      "Epoch  45 MSE:  0.0016779386205598712\n",
      "Epoch  46 MSE:  0.001569394371472299\n",
      "Epoch  47 MSE:  0.0014986473834142089\n",
      "Epoch  48 MSE:  0.0014093235367909074\n",
      "Epoch  49 MSE:  0.0013243660796433687\n",
      "Epoch  50 MSE:  0.0012058396823704243\n",
      "Epoch  51 MSE:  0.001037691836245358\n",
      "Epoch  52 MSE:  0.0009038193966262043\n",
      "Epoch  53 MSE:  0.0008205912890844047\n",
      "Epoch  54 MSE:  0.0007664472213946283\n",
      "Epoch  55 MSE:  0.0007695883978158236\n",
      "Epoch  56 MSE:  0.0007963191601447761\n",
      "Epoch  57 MSE:  0.0008011897443793714\n",
      "Epoch  58 MSE:  0.0008010822348296642\n",
      "Epoch  59 MSE:  0.0007810340030118823\n",
      "Epoch  60 MSE:  0.0007355363923124969\n",
      "Epoch  61 MSE:  0.0007025316008366644\n",
      "Epoch  62 MSE:  0.0006753730121999979\n",
      "Epoch  63 MSE:  0.0006554186111316085\n",
      "Epoch  64 MSE:  0.0006542707560583949\n",
      "Epoch  65 MSE:  0.0006427293410524726\n",
      "Epoch  66 MSE:  0.0006228170241229236\n",
      "Epoch  67 MSE:  0.000595485616941005\n",
      "Epoch  68 MSE:  0.0005541977006942034\n",
      "Epoch  69 MSE:  0.0005194583791308105\n",
      "Epoch  70 MSE:  0.0004909707931801677\n",
      "Epoch  71 MSE:  0.00046862257295288146\n",
      "Epoch  72 MSE:  0.0004572707402985543\n",
      "Epoch  73 MSE:  0.00044543755939230323\n",
      "Epoch  74 MSE:  0.0004324180190451443\n",
      "Epoch  75 MSE:  0.00041963139665313065\n",
      "Epoch  76 MSE:  0.0004026625247206539\n",
      "Epoch  77 MSE:  0.00038747009239159524\n",
      "Epoch  78 MSE:  0.0003763342392630875\n",
      "Epoch  79 MSE:  0.0003671609447337687\n",
      "Epoch  80 MSE:  0.00036283579538576305\n",
      "Epoch  81 MSE:  0.00036006810842081904\n",
      "Epoch  82 MSE:  0.0003556864394340664\n",
      "Epoch  83 MSE:  0.0003509579400997609\n",
      "Epoch  84 MSE:  0.0003437004052102566\n",
      "Epoch  85 MSE:  0.0003351330233272165\n",
      "Epoch  86 MSE:  0.0003276158240623772\n",
      "Epoch  87 MSE:  0.0003201329382136464\n",
      "Epoch  88 MSE:  0.0003138586471322924\n",
      "Epoch  89 MSE:  0.00030841006082482636\n",
      "Epoch  90 MSE:  0.0003021068696398288\n",
      "Epoch  91 MSE:  0.00029570350307039917\n",
      "Epoch  92 MSE:  0.00028866101638413966\n",
      "Epoch  93 MSE:  0.00028108872356824577\n",
      "Epoch  94 MSE:  0.00027428579051047564\n",
      "Epoch  95 MSE:  0.0002678255259525031\n",
      "Epoch  96 MSE:  0.0002620639861561358\n",
      "Epoch  97 MSE:  0.0002569655189290643\n",
      "Epoch  98 MSE:  0.000251632125582546\n",
      "Epoch  99 MSE:  0.0002463897399138659\n"
     ]
    }
   ],
   "source": [
    "#set seed for reproducible results \n",
    "torch.manual_seed(1)\n",
    "np.random.seed(1)\n",
    "for epoch in range(num_epochs):\n",
    "    # make training sets in torch\n",
    "    inputs = Variable(torch.from_numpy(X_train).float())\n",
    "    labels = Variable(torch.from_numpy(y_train).float())\n",
    "\n",
    "    output, hidden = rnn(inputs) \n",
    "    \n",
    "    loss = criterion(output.reshape(-1), labels.view(-1))\n",
    "    print(\"Epoch \", epoch, \"MSE: \", loss.item())\n",
    "    optimiser.zero_grad()\n",
    "\n",
    "    # Backward pass\n",
    "    loss.backward(retain_graph=True)\n",
    "\n",
    "    # Update parameters\n",
    "    optimiser.step()                                \n"
   ]
  },
  {
   "cell_type": "code",
   "execution_count": 36,
   "metadata": {},
   "outputs": [
    {
     "data": {
      "text/plain": [
       "array([[  32.198956],\n",
       "       [  31.787584],\n",
       "       [  31.195953],\n",
       "       ...,\n",
       "       [2982.1443  ],\n",
       "       [2976.6833  ],\n",
       "       [2972.4924  ]], dtype=float32)"
      ]
     },
     "execution_count": 36,
     "metadata": {},
     "output_type": "execute_result"
    }
   ],
   "source": [
    "out_temp = np.concatenate((output.detach().numpy()[:, [0]], output.detach().numpy()[:, [0]]), axis=1)\n",
    "out_temp.shape\n",
    "predicted_price = sc.inverse_transform(out_temp)[:, [0]]\n",
    "predicted_price"
   ]
  },
  {
   "cell_type": "code",
   "execution_count": 37,
   "metadata": {},
   "outputs": [
    {
     "data": {
      "text/plain": [
       "(12000, 1)"
      ]
     },
     "execution_count": 37,
     "metadata": {},
     "output_type": "execute_result"
    }
   ],
   "source": [
    "predicted_price.shape"
   ]
  },
  {
   "cell_type": "code",
   "execution_count": 38,
   "metadata": {},
   "outputs": [
    {
     "data": {
      "image/png": "[encoded data removed]",
      "text/plain": [
       "<Figure size 864x360 with 1 Axes>"
      ]
     },
     "metadata": {
      "needs_background": "light"
     },
     "output_type": "display_data"
    }
   ],
   "source": [
    "# Visualising the results in training dataset\n",
    "plt.figure(1, figsize=(12, 5))\n",
    "plt.plot(data_full.Date, dataset[:,0], color = 'red', label = 'Real')\n",
    "plt.plot(date_train,predicted_price, color = 'blue', label = 'Pred', marker = 'o')\n",
    "plt.title('S&P 500 Close Price Prediction in training set')\n",
    "plt.xlabel('Date')\n",
    "plt.ylabel('S&P 500 Close Price')\n",
    "plt.legend()\n",
    "plt.show()"
   ]
  },
  {
   "cell_type": "code",
   "execution_count": 39,
   "metadata": {},
   "outputs": [],
   "source": [
    "# compute prediction_error := (predicted_price - actual_price) / actual_price \n",
    "def prediction_error(target, pred):\n",
    "    error = abs(pred - target)/target\n",
    "    return error"
   ]
  },
  {
   "cell_type": "code",
   "execution_count": 40,
   "metadata": {},
   "outputs": [],
   "source": [
    "out_temp = np.concatenate( (y_train[:, :, 0], y_train[:, :, 0]), axis = 1)\n",
    "target_train = sc.inverse_transform(out_temp)[:, [0]]\n",
    "error = prediction_error(target_train, predicted_price)"
   ]
  },
  {
   "cell_type": "code",
   "execution_count": 41,
   "metadata": {},
   "outputs": [
    {
     "data": {
      "image/png": "[encoded data removed]",
      "text/plain": [
       "<Figure size 864x360 with 1 Axes>"
      ]
     },
     "metadata": {
      "needs_background": "light"
     },
     "output_type": "display_data"
    }
   ],
   "source": [
    "plt.figure(1, figsize=(12, 5))\n",
    "plt.plot(date_train, error, color = 'blue', label = 'Pred')\n",
    "plt.title('Prediction Error in training set')\n",
    "plt.xlabel('Date')\n",
    "plt.ylabel('S&P 500 Close Price')\n",
    "plt.legend()\n",
    "plt.show()"
   ]
  },
  {
   "cell_type": "markdown",
   "metadata": {},
   "source": [
    "## Step 4 - Test your RNN accuracy in predicting the next one, two, three, and four datapoints in the dataset from 1 Jan 1980 through the present day, using a sliding sampling window of width 180 days. "
   ]
  },
  {
   "cell_type": "code",
   "execution_count": 42,
   "metadata": {},
   "outputs": [
    {
     "data": {
      "text/plain": [
       "(3171, 180, 2)"
      ]
     },
     "execution_count": 42,
     "metadata": {},
     "output_type": "execute_result"
    }
   ],
   "source": [
    "X_test.shape"
   ]
  },
  {
   "cell_type": "code",
   "execution_count": 43,
   "metadata": {},
   "outputs": [
    {
     "data": {
      "text/plain": [
       "(3171, 1, 4)"
      ]
     },
     "execution_count": 43,
     "metadata": {},
     "output_type": "execute_result"
    }
   ],
   "source": [
    "y_test.shape"
   ]
  },
  {
   "cell_type": "code",
   "execution_count": 44,
   "metadata": {},
   "outputs": [
    {
     "data": {
      "text/plain": [
       "torch.Size([3171, 4])"
      ]
     },
     "execution_count": 44,
     "metadata": {},
     "output_type": "execute_result"
    }
   ],
   "source": [
    "test_inputs = Variable(torch.from_numpy(X_test).float())\n",
    "output_test, _ = rnn(test_inputs)\n",
    "output_test.shape"
   ]
  },
  {
   "cell_type": "code",
   "execution_count": 45,
   "metadata": {},
   "outputs": [
    {
     "data": {
      "text/plain": [
       "(3171, 2)"
      ]
     },
     "execution_count": 45,
     "metadata": {},
     "output_type": "execute_result"
    }
   ],
   "source": [
    "out_temp = np.concatenate((output_test.detach().numpy()[:, [0]], output_test.detach().numpy()[:, [0]]), axis=1)\n",
    "out_temp.shape"
   ]
  },
  {
   "cell_type": "code",
   "execution_count": 46,
   "metadata": {},
   "outputs": [
    {
     "data": {
      "text/plain": [
       "array([[  49.46568 ],\n",
       "       [  49.714016],\n",
       "       [  50.33159 ],\n",
       "       ...,\n",
       "       [3088.1084  ],\n",
       "       [3087.1624  ],\n",
       "       [3086.1292  ]], dtype=float32)"
      ]
     },
     "execution_count": 46,
     "metadata": {},
     "output_type": "execute_result"
    }
   ],
   "source": [
    "predicted_price_test = sc.inverse_transform(out_temp)[:, [0]]\n",
    "predicted_price_test"
   ]
  },
  {
   "cell_type": "code",
   "execution_count": 47,
   "metadata": {},
   "outputs": [
    {
     "data": {
      "image/png": "[encoded data removed]",
      "text/plain": [
       "<Figure size 864x360 with 1 Axes>"
      ]
     },
     "metadata": {
      "needs_background": "light"
     },
     "output_type": "display_data"
    }
   ],
   "source": [
    "# Visualising the results in test dataset\n",
    "plt.figure(1, figsize=(12, 5))\n",
    "plt.plot(data_full.Date, dataset[:,0], color = 'red', label = 'Real')\n",
    "plt.plot(date_test,\n",
    "         predicted_price_test, color = 'blue', label = 'Pred', marker='o')\n",
    "plt.title('S&P 500 Close Price Prediction in test set')\n",
    "plt.xlabel('Date')\n",
    "plt.ylabel('S&P 500 Close Price')\n",
    "plt.legend()\n",
    "plt.show()"
   ]
  },
  {
   "cell_type": "code",
   "execution_count": 48,
   "metadata": {},
   "outputs": [
    {
     "data": {
      "text/plain": [
       "array([[0.24789902],\n",
       "       [0.24343301],\n",
       "       [0.23380138],\n",
       "       ...,\n",
       "       [0.16311652],\n",
       "       [0.16632127],\n",
       "       [0.17380677]])"
      ]
     },
     "execution_count": 48,
     "metadata": {},
     "output_type": "execute_result"
    }
   ],
   "source": [
    "out_temp = np.concatenate( (y_test[:, :, 0], y_test[:, :, 0]), axis = 1)\n",
    "target_test = sc.inverse_transform(out_temp)[:, [0]]\n",
    "error = prediction_error(target_test, predicted_price_test)\n",
    "error"
   ]
  },
  {
   "cell_type": "code",
   "execution_count": 49,
   "metadata": {},
   "outputs": [
    {
     "data": {
      "image/png": "[encoded data removed]",
      "text/plain": [
       "<Figure size 864x360 with 1 Axes>"
      ]
     },
     "metadata": {
      "needs_background": "light"
     },
     "output_type": "display_data"
    }
   ],
   "source": [
    "plt.figure(1, figsize=(12, 5))\n",
    "plt.plot(date_test, error, color = 'blue', label = 'Pred', marker= 'o')\n",
    "plt.title('Prediction Error in test set')\n",
    "plt.xlabel('Date')\n",
    "plt.ylabel('S&P 500 Close Price')\n",
    "plt.legend()\n",
    "plt.show()"
   ]
  },
  {
   "cell_type": "markdown",
   "metadata": {},
   "source": [
    "## Step 5 - Optimize your RNN performance to yield maximum achievable accuracy (e.g., minimum predicted_error) over the entire Training Set and Test Set.  Repeat Step 4 graphing operation to show this optimized result."
   ]
  },
  {
   "cell_type": "code",
   "execution_count": null,
   "metadata": {},
   "outputs": [],
   "source": []
  },
  {
   "cell_type": "code",
   "execution_count": 50,
   "metadata": {},
   "outputs": [
    {
     "data": {
      "text/plain": [
       "(3171, 180, 2)"
      ]
     },
     "execution_count": 50,
     "metadata": {},
     "output_type": "execute_result"
    }
   ],
   "source": [
    "X_test.shape"
   ]
  },
  {
   "cell_type": "markdown",
   "metadata": {},
   "source": [
    "## Step 6 -  Corrupt your Test Set (from 1), above) by adding noise"
   ]
  },
  {
   "cell_type": "code",
   "execution_count": 51,
   "metadata": {},
   "outputs": [],
   "source": [
    "# standard deviation\n",
    "sd = [0.0, 0.001, 0.002, 0.003, 0.005, 0.01, 0.02, 0.03, 0.05, 0.1]\n",
    "def NormalizeData(data):\n",
    "    return (data - np.min(data)) / (np.max(data) - np.min(data))\n",
    "def NoiseData(dataset, sigma):\n",
    "    dataset_noise = np.ndarray(shape=dataset.shape, dtype=np.float32)\n",
    "    #set seed for random numbers\n",
    "    random.seed(1)\n",
    "    for i in range(len(dataset)):\n",
    "        s = np.random.normal(0, sigma, 18)\n",
    "        index = random.sample(list(range(window_size)), 18)\n",
    "        dataset_noise[i] = dataset[i]    \n",
    "        dataset_noise[i, index, 0] = dataset_noise[i, index, 0] + s\n",
    "#         dataset_noise[i, 0] = NormalizeData(dataset_noise[i,0 ])\n",
    "    return dataset_noise   "
   ]
  },
  {
   "cell_type": "code",
   "execution_count": 52,
   "metadata": {},
   "outputs": [
    {
     "name": "stdout",
     "output_type": "stream",
     "text": [
      "0.0\n",
      "0.001\n",
      "0.002\n",
      "0.003\n",
      "0.005\n",
      "0.01\n",
      "0.02\n",
      "0.03\n",
      "0.05\n",
      "0.1\n"
     ]
    }
   ],
   "source": [
    "# standard deviation\n",
    "sd = [0.0, 0.001, 0.002, 0.003, 0.005, 0.01, 0.02, 0.03, 0.05, 0.1]\n",
    "error_res_all = []\n",
    "for sigma in sd:\n",
    "    print(sigma)\n",
    "    dataset_test_noise = NoiseData(X_test, sigma)\n",
    "    test_inputs = Variable(torch.from_numpy(dataset_test_noise).float())\n",
    "    output_test, _ = rnn(test_inputs)\n",
    "    out_temp = np.concatenate((output_test.detach().numpy()[:, [0]], output_test.detach().numpy()[:, [0]]), axis=1)\n",
    "    predicted_price_test = sc.inverse_transform(out_temp)[:, [0]]\n",
    "    error = prediction_error(target_test, predicted_price_test)\n",
    "    error_res_all.append(error.reshape(-1))"
   ]
  },
  {
   "cell_type": "code",
   "execution_count": 53,
   "metadata": {},
   "outputs": [
    {
     "data": {
      "text/plain": [
       "(3171, 1)"
      ]
     },
     "execution_count": 53,
     "metadata": {},
     "output_type": "execute_result"
    }
   ],
   "source": [
    "error.shape"
   ]
  },
  {
   "cell_type": "code",
   "execution_count": 54,
   "metadata": {},
   "outputs": [],
   "source": [
    "labels = date_test[:,0]\n",
    "error_df=pd.DataFrame(error_res_all, columns=labels, index=sd).T"
   ]
  },
  {
   "cell_type": "code",
   "execution_count": 55,
   "metadata": {},
   "outputs": [
    {
     "data": {
      "text/html": [
       "<div>\n",
       "<style scoped>\n",
       "    .dataframe tbody tr th:only-of-type {\n",
       "        vertical-align: middle;\n",
       "    }\n",
       "\n",
       "    .dataframe tbody tr th {\n",
       "        vertical-align: top;\n",
       "    }\n",
       "\n",
       "    .dataframe thead th {\n",
       "        text-align: right;\n",
       "    }\n",
       "</style>\n",
       "<table border=\"1\" class=\"dataframe\">\n",
       "  <thead>\n",
       "    <tr style=\"text-align: right;\">\n",
       "      <th></th>\n",
       "      <th>0.000</th>\n",
       "      <th>0.001</th>\n",
       "      <th>0.002</th>\n",
       "      <th>0.003</th>\n",
       "      <th>0.005</th>\n",
       "      <th>0.010</th>\n",
       "      <th>0.020</th>\n",
       "      <th>0.030</th>\n",
       "      <th>0.050</th>\n",
       "      <th>0.100</th>\n",
       "    </tr>\n",
       "  </thead>\n",
       "  <tbody>\n",
       "    <tr>\n",
       "      <th>1961-07-07</th>\n",
       "      <td>0.247899</td>\n",
       "      <td>0.248588</td>\n",
       "      <td>0.249370</td>\n",
       "      <td>0.248954</td>\n",
       "      <td>0.250464</td>\n",
       "      <td>0.248509</td>\n",
       "      <td>0.252882</td>\n",
       "      <td>0.264392</td>\n",
       "      <td>0.258649</td>\n",
       "      <td>0.231542</td>\n",
       "    </tr>\n",
       "    <tr>\n",
       "      <th>1961-07-10</th>\n",
       "      <td>0.243433</td>\n",
       "      <td>0.243740</td>\n",
       "      <td>0.242233</td>\n",
       "      <td>0.302899</td>\n",
       "      <td>0.282600</td>\n",
       "      <td>0.288791</td>\n",
       "      <td>0.103952</td>\n",
       "      <td>0.877101</td>\n",
       "      <td>0.470274</td>\n",
       "      <td>0.122333</td>\n",
       "    </tr>\n",
       "    <tr>\n",
       "      <th>1961-07-11</th>\n",
       "      <td>0.233801</td>\n",
       "      <td>0.234541</td>\n",
       "      <td>0.246647</td>\n",
       "      <td>0.232160</td>\n",
       "      <td>0.237327</td>\n",
       "      <td>0.257362</td>\n",
       "      <td>0.225327</td>\n",
       "      <td>0.171707</td>\n",
       "      <td>0.210192</td>\n",
       "      <td>0.284446</td>\n",
       "    </tr>\n",
       "    <tr>\n",
       "      <th>1961-07-12</th>\n",
       "      <td>0.217841</td>\n",
       "      <td>0.213270</td>\n",
       "      <td>0.212781</td>\n",
       "      <td>0.217372</td>\n",
       "      <td>0.216798</td>\n",
       "      <td>0.252285</td>\n",
       "      <td>0.151583</td>\n",
       "      <td>0.262078</td>\n",
       "      <td>0.381700</td>\n",
       "      <td>0.284827</td>\n",
       "    </tr>\n",
       "    <tr>\n",
       "      <th>1961-07-13</th>\n",
       "      <td>0.203501</td>\n",
       "      <td>0.203812</td>\n",
       "      <td>0.199769</td>\n",
       "      <td>0.189404</td>\n",
       "      <td>0.210359</td>\n",
       "      <td>0.212475</td>\n",
       "      <td>0.243681</td>\n",
       "      <td>0.075980</td>\n",
       "      <td>0.273625</td>\n",
       "      <td>0.265552</td>\n",
       "    </tr>\n",
       "    <tr>\n",
       "      <th>...</th>\n",
       "      <td>...</td>\n",
       "      <td>...</td>\n",
       "      <td>...</td>\n",
       "      <td>...</td>\n",
       "      <td>...</td>\n",
       "      <td>...</td>\n",
       "      <td>...</td>\n",
       "      <td>...</td>\n",
       "      <td>...</td>\n",
       "      <td>...</td>\n",
       "    </tr>\n",
       "    <tr>\n",
       "      <th>2020-12-21</th>\n",
       "      <td>0.165199</td>\n",
       "      <td>0.165264</td>\n",
       "      <td>0.165097</td>\n",
       "      <td>0.165328</td>\n",
       "      <td>0.165067</td>\n",
       "      <td>0.165056</td>\n",
       "      <td>0.164694</td>\n",
       "      <td>0.164393</td>\n",
       "      <td>0.171157</td>\n",
       "      <td>0.162529</td>\n",
       "    </tr>\n",
       "    <tr>\n",
       "      <th>2020-12-22</th>\n",
       "      <td>0.162613</td>\n",
       "      <td>0.162619</td>\n",
       "      <td>0.162949</td>\n",
       "      <td>0.162964</td>\n",
       "      <td>0.162572</td>\n",
       "      <td>0.163622</td>\n",
       "      <td>0.160442</td>\n",
       "      <td>0.165262</td>\n",
       "      <td>0.175034</td>\n",
       "      <td>0.182647</td>\n",
       "    </tr>\n",
       "    <tr>\n",
       "      <th>2020-12-23</th>\n",
       "      <td>0.163117</td>\n",
       "      <td>0.163269</td>\n",
       "      <td>0.163172</td>\n",
       "      <td>0.163083</td>\n",
       "      <td>0.163338</td>\n",
       "      <td>0.163835</td>\n",
       "      <td>0.163167</td>\n",
       "      <td>0.162217</td>\n",
       "      <td>0.163898</td>\n",
       "      <td>0.172399</td>\n",
       "    </tr>\n",
       "    <tr>\n",
       "      <th>2020-12-24</th>\n",
       "      <td>0.166321</td>\n",
       "      <td>0.166342</td>\n",
       "      <td>0.166394</td>\n",
       "      <td>0.166381</td>\n",
       "      <td>0.166274</td>\n",
       "      <td>0.166076</td>\n",
       "      <td>0.166611</td>\n",
       "      <td>0.166488</td>\n",
       "      <td>0.165957</td>\n",
       "      <td>0.162656</td>\n",
       "    </tr>\n",
       "    <tr>\n",
       "      <th>2020-12-28</th>\n",
       "      <td>0.173807</td>\n",
       "      <td>0.173801</td>\n",
       "      <td>0.173806</td>\n",
       "      <td>0.173804</td>\n",
       "      <td>0.173823</td>\n",
       "      <td>0.173783</td>\n",
       "      <td>0.173863</td>\n",
       "      <td>0.173783</td>\n",
       "      <td>0.173893</td>\n",
       "      <td>0.174051</td>\n",
       "    </tr>\n",
       "  </tbody>\n",
       "</table>\n",
       "<p>3171 rows × 10 columns</p>\n",
       "</div>"
      ],
      "text/plain": [
       "               0.000     0.001     0.002     0.003     0.005     0.010  \\\n",
       "1961-07-07  0.247899  0.248588  0.249370  0.248954  0.250464  0.248509   \n",
       "1961-07-10  0.243433  0.243740  0.242233  0.302899  0.282600  0.288791   \n",
       "1961-07-11  0.233801  0.234541  0.246647  0.232160  0.237327  0.257362   \n",
       "1961-07-12  0.217841  0.213270  0.212781  0.217372  0.216798  0.252285   \n",
       "1961-07-13  0.203501  0.203812  0.199769  0.189404  0.210359  0.212475   \n",
       "...              ...       ...       ...       ...       ...       ...   \n",
       "2020-12-21  0.165199  0.165264  0.165097  0.165328  0.165067  0.165056   \n",
       "2020-12-22  0.162613  0.162619  0.162949  0.162964  0.162572  0.163622   \n",
       "2020-12-23  0.163117  0.163269  0.163172  0.163083  0.163338  0.163835   \n",
       "2020-12-24  0.166321  0.166342  0.166394  0.166381  0.166274  0.166076   \n",
       "2020-12-28  0.173807  0.173801  0.173806  0.173804  0.173823  0.173783   \n",
       "\n",
       "               0.020     0.030     0.050     0.100  \n",
       "1961-07-07  0.252882  0.264392  0.258649  0.231542  \n",
       "1961-07-10  0.103952  0.877101  0.470274  0.122333  \n",
       "1961-07-11  0.225327  0.171707  0.210192  0.284446  \n",
       "1961-07-12  0.151583  0.262078  0.381700  0.284827  \n",
       "1961-07-13  0.243681  0.075980  0.273625  0.265552  \n",
       "...              ...       ...       ...       ...  \n",
       "2020-12-21  0.164694  0.164393  0.171157  0.162529  \n",
       "2020-12-22  0.160442  0.165262  0.175034  0.182647  \n",
       "2020-12-23  0.163167  0.162217  0.163898  0.172399  \n",
       "2020-12-24  0.166611  0.166488  0.165957  0.162656  \n",
       "2020-12-28  0.173863  0.173783  0.173893  0.174051  \n",
       "\n",
       "[3171 rows x 10 columns]"
      ]
     },
     "execution_count": 55,
     "metadata": {},
     "output_type": "execute_result"
    }
   ],
   "source": [
    "error_df"
   ]
  },
  {
   "cell_type": "code",
   "execution_count": 56,
   "metadata": {},
   "outputs": [
    {
     "data": {
      "text/plain": [
       "6.513280333465961"
      ]
     },
     "execution_count": 56,
     "metadata": {},
     "output_type": "execute_result"
    }
   ],
   "source": [
    "# max(error_res_all[9])"
   ]
  },
  {
   "cell_type": "code",
   "execution_count": 57,
   "metadata": {},
   "outputs": [
    {
     "data": {
      "text/plain": [
       "<matplotlib.legend.Legend at 0x7fd1b8b37eb0>"
      ]
     },
     "execution_count": 57,
     "metadata": {},
     "output_type": "execute_result"
    },
    {
     "data": {
      "image/png": "[encoded data removed]",
      "text/plain": [
       "<Figure size 864x360 with 1 Axes>"
      ]
     },
     "metadata": {
      "needs_background": "light"
     },
     "output_type": "display_data"
    }
   ],
   "source": [
    "cmaps= ['red','purple', 'green', 'orange',  'yellow', 'pink', 'grey', 'brown', 'black','blue' ]\n",
    "plt.figure(1, figsize=(12, 5))\n",
    "for i in range(len(sd)):    \n",
    "    plt.plot(date_test, error_res_all[i], color=cmaps[i], lw=1, label = sd[i])  \n",
    "plt.xlabel('Date')\n",
    "plt.ylabel('Prediction error')\n",
    "plt.title('Prediction error with Different Noise Levels')\n",
    "plt.legend(loc=\"lower right\")  "
   ]
  },
  {
   "cell_type": "code",
   "execution_count": 58,
   "metadata": {},
   "outputs": [],
   "source": [
    "#reference:https://github.com/thundercomb/pytorch-stock-predictor-rnn/blob/master/pytorch-stock-predictor-lstm.ipynb"
   ]
  }
 ],
 "metadata": {
  "kernelspec": {
   "display_name": "Python 3",
   "language": "python",
   "name": "python3"
  },
  "language_info": {
   "codemirror_mode": {
    "name": "ipython",
    "version": 3
   },
   "file_extension": ".py",
   "mimetype": "text/x-python",
   "name": "python",
   "nbconvert_exporter": "python",
   "pygments_lexer": "ipython3",
   "version": "3.8.5"
  }
 },
 "nbformat": 4,
 "nbformat_minor": 4
}
