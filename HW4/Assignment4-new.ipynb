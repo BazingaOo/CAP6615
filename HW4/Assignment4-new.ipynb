{
 "cells": [
  {
   "cell_type": "markdown",
   "metadata": {},
   "source": [
    "# CAP 6615 Neural Networks Programming Assignment 4 – CNN && RNN\n",
    "\n",
    "### Keyuan Lu, Wenxuan Bao, Yiming Xu, Yufan Chen, Yue Bai"
   ]
  },
  {
   "cell_type": "code",
   "execution_count": 2,
   "metadata": {},
   "outputs": [],
   "source": [
    "import numpy as np\n",
    "import os\n",
    "import random \n",
    "from datetime import datetime\n",
    "from numpy import genfromtxt\n",
    "import pandas as pd\n",
    "import torch\n",
    "import torch.nn as nn\n",
    "from torch.autograd import Variable\n",
    "import matplotlib.pyplot as plt\n",
    "from sklearn.preprocessing import MinMaxScaler\n",
    "import os\n",
    "import shutil\n",
    "from tqdm import tqdm\n",
    "from skimage.io import imread\n",
    "import torchvision\n",
    "from torchvision import transforms\n",
    "import torch.utils.data as data\n",
    "from torch.optim import Adam, SGD"
   ]
  },
  {
   "cell_type": "markdown",
   "metadata": {},
   "source": [
    "## Step 1 - Design and build a dataset for CNN && RNN model"
   ]
  },
  {
   "cell_type": "markdown",
   "metadata": {},
   "source": [
    "### Select S&P500 Dataset and Schiller P/E ratio. Make an overlay of the Schiller P/E from 1 Jan 1960 to 31 Dec 2020, onto the S&P500 for the same period."
   ]
  },
  {
   "cell_type": "code",
   "execution_count": 3,
   "metadata": {},
   "outputs": [],
   "source": [
    "# Read s&p500 price data and schiller pe data.\n",
    "# Note that 'HistoricalPrices.csv' only includes data after 1978\n",
    "# Therefore, we use two datasets for s&p500 price ('HistoricalPrices.csv' and 'HistoricalPrices_old.csv' ), \n",
    "# and will combine them later\n",
    "price_new=pd.read_csv('HistoricalPrices.csv')\n",
    "price_old=pd.read_csv('HistoricalPrices_old.csv')\n",
    "pe=pd.read_csv('ie_data_PE_full.csv')"
   ]
  },
  {
   "cell_type": "code",
   "execution_count": 4,
   "metadata": {},
   "outputs": [
    {
     "data": {
      "text/html": [
       "<div>\n",
       "<style scoped>\n",
       "    .dataframe tbody tr th:only-of-type {\n",
       "        vertical-align: middle;\n",
       "    }\n",
       "\n",
       "    .dataframe tbody tr th {\n",
       "        vertical-align: top;\n",
       "    }\n",
       "\n",
       "    .dataframe thead th {\n",
       "        text-align: right;\n",
       "    }\n",
       "</style>\n",
       "<table border=\"1\" class=\"dataframe\">\n",
       "  <thead>\n",
       "    <tr style=\"text-align: right;\">\n",
       "      <th></th>\n",
       "      <th>Date_PE</th>\n",
       "      <th>PE_CAPE</th>\n",
       "    </tr>\n",
       "  </thead>\n",
       "  <tbody>\n",
       "    <tr>\n",
       "      <th>0</th>\n",
       "      <td>1960.01</td>\n",
       "      <td>18.338285</td>\n",
       "    </tr>\n",
       "    <tr>\n",
       "      <th>1</th>\n",
       "      <td>1960.02</td>\n",
       "      <td>17.545275</td>\n",
       "    </tr>\n",
       "    <tr>\n",
       "      <th>2</th>\n",
       "      <td>1960.03</td>\n",
       "      <td>17.286021</td>\n",
       "    </tr>\n",
       "    <tr>\n",
       "      <th>3</th>\n",
       "      <td>1960.04</td>\n",
       "      <td>17.429767</td>\n",
       "    </tr>\n",
       "    <tr>\n",
       "      <th>4</th>\n",
       "      <td>1960.05</td>\n",
       "      <td>17.256171</td>\n",
       "    </tr>\n",
       "    <tr>\n",
       "      <th>...</th>\n",
       "      <td>...</td>\n",
       "      <td>...</td>\n",
       "    </tr>\n",
       "    <tr>\n",
       "      <th>727</th>\n",
       "      <td>2020.08</td>\n",
       "      <td>31.152309</td>\n",
       "    </tr>\n",
       "    <tr>\n",
       "      <th>728</th>\n",
       "      <td>2020.09</td>\n",
       "      <td>30.833593</td>\n",
       "    </tr>\n",
       "    <tr>\n",
       "      <th>729</th>\n",
       "      <td>2020.10</td>\n",
       "      <td>31.277783</td>\n",
       "    </tr>\n",
       "    <tr>\n",
       "      <th>730</th>\n",
       "      <td>2020.11</td>\n",
       "      <td>32.471647</td>\n",
       "    </tr>\n",
       "    <tr>\n",
       "      <th>731</th>\n",
       "      <td>2020.12</td>\n",
       "      <td>33.769789</td>\n",
       "    </tr>\n",
       "  </tbody>\n",
       "</table>\n",
       "<p>732 rows × 2 columns</p>\n",
       "</div>"
      ],
      "text/plain": [
       "     Date_PE    PE_CAPE\n",
       "0    1960.01  18.338285\n",
       "1    1960.02  17.545275\n",
       "2    1960.03  17.286021\n",
       "3    1960.04  17.429767\n",
       "4    1960.05  17.256171\n",
       "..       ...        ...\n",
       "727  2020.08  31.152309\n",
       "728  2020.09  30.833593\n",
       "729  2020.10  31.277783\n",
       "730  2020.11  32.471647\n",
       "731  2020.12  33.769789\n",
       "\n",
       "[732 rows x 2 columns]"
      ]
     },
     "execution_count": 4,
     "metadata": {},
     "output_type": "execute_result"
    }
   ],
   "source": [
    "# Note that the P/E ratio is monthly data \n",
    "pe=pe.rename({'Date':'Date_PE'},axis=1)\n",
    "pe"
   ]
  },
  {
   "cell_type": "code",
   "execution_count": 5,
   "metadata": {},
   "outputs": [
    {
     "data": {
      "text/html": [
       "<div>\n",
       "<style scoped>\n",
       "    .dataframe tbody tr th:only-of-type {\n",
       "        vertical-align: middle;\n",
       "    }\n",
       "\n",
       "    .dataframe tbody tr th {\n",
       "        vertical-align: top;\n",
       "    }\n",
       "\n",
       "    .dataframe thead th {\n",
       "        text-align: right;\n",
       "    }\n",
       "</style>\n",
       "<table border=\"1\" class=\"dataframe\">\n",
       "  <thead>\n",
       "    <tr style=\"text-align: right;\">\n",
       "      <th></th>\n",
       "      <th>Date</th>\n",
       "      <th>Open</th>\n",
       "      <th>High</th>\n",
       "      <th>Low</th>\n",
       "      <th>Close</th>\n",
       "    </tr>\n",
       "  </thead>\n",
       "  <tbody>\n",
       "    <tr>\n",
       "      <th>2511</th>\n",
       "      <td>1960-01-04</td>\n",
       "      <td>59.910000</td>\n",
       "      <td>59.910000</td>\n",
       "      <td>59.910000</td>\n",
       "      <td>59.910000</td>\n",
       "    </tr>\n",
       "    <tr>\n",
       "      <th>2512</th>\n",
       "      <td>1960-01-05</td>\n",
       "      <td>60.389999</td>\n",
       "      <td>60.389999</td>\n",
       "      <td>60.389999</td>\n",
       "      <td>60.389999</td>\n",
       "    </tr>\n",
       "    <tr>\n",
       "      <th>2513</th>\n",
       "      <td>1960-01-06</td>\n",
       "      <td>60.130001</td>\n",
       "      <td>60.130001</td>\n",
       "      <td>60.130001</td>\n",
       "      <td>60.130001</td>\n",
       "    </tr>\n",
       "    <tr>\n",
       "      <th>2514</th>\n",
       "      <td>1960-01-07</td>\n",
       "      <td>59.689999</td>\n",
       "      <td>59.689999</td>\n",
       "      <td>59.689999</td>\n",
       "      <td>59.689999</td>\n",
       "    </tr>\n",
       "    <tr>\n",
       "      <th>2515</th>\n",
       "      <td>1960-01-08</td>\n",
       "      <td>59.500000</td>\n",
       "      <td>59.500000</td>\n",
       "      <td>59.500000</td>\n",
       "      <td>59.500000</td>\n",
       "    </tr>\n",
       "    <tr>\n",
       "      <th>...</th>\n",
       "      <td>...</td>\n",
       "      <td>...</td>\n",
       "      <td>...</td>\n",
       "      <td>...</td>\n",
       "      <td>...</td>\n",
       "    </tr>\n",
       "    <tr>\n",
       "      <th>7016</th>\n",
       "      <td>1977-12-23</td>\n",
       "      <td>93.800003</td>\n",
       "      <td>94.989998</td>\n",
       "      <td>93.750000</td>\n",
       "      <td>94.690002</td>\n",
       "    </tr>\n",
       "    <tr>\n",
       "      <th>7017</th>\n",
       "      <td>1977-12-27</td>\n",
       "      <td>94.690002</td>\n",
       "      <td>95.209999</td>\n",
       "      <td>94.089996</td>\n",
       "      <td>94.690002</td>\n",
       "    </tr>\n",
       "    <tr>\n",
       "      <th>7018</th>\n",
       "      <td>1977-12-28</td>\n",
       "      <td>94.690002</td>\n",
       "      <td>95.199997</td>\n",
       "      <td>93.989998</td>\n",
       "      <td>94.750000</td>\n",
       "    </tr>\n",
       "    <tr>\n",
       "      <th>7019</th>\n",
       "      <td>1977-12-29</td>\n",
       "      <td>94.750000</td>\n",
       "      <td>95.430000</td>\n",
       "      <td>94.099998</td>\n",
       "      <td>94.940002</td>\n",
       "    </tr>\n",
       "    <tr>\n",
       "      <th>7020</th>\n",
       "      <td>1977-12-30</td>\n",
       "      <td>94.940002</td>\n",
       "      <td>95.669998</td>\n",
       "      <td>94.440002</td>\n",
       "      <td>95.099998</td>\n",
       "    </tr>\n",
       "  </tbody>\n",
       "</table>\n",
       "<p>4510 rows × 5 columns</p>\n",
       "</div>"
      ],
      "text/plain": [
       "           Date       Open       High        Low      Close\n",
       "2511 1960-01-04  59.910000  59.910000  59.910000  59.910000\n",
       "2512 1960-01-05  60.389999  60.389999  60.389999  60.389999\n",
       "2513 1960-01-06  60.130001  60.130001  60.130001  60.130001\n",
       "2514 1960-01-07  59.689999  59.689999  59.689999  59.689999\n",
       "2515 1960-01-08  59.500000  59.500000  59.500000  59.500000\n",
       "...         ...        ...        ...        ...        ...\n",
       "7016 1977-12-23  93.800003  94.989998  93.750000  94.690002\n",
       "7017 1977-12-27  94.690002  95.209999  94.089996  94.690002\n",
       "7018 1977-12-28  94.690002  95.199997  93.989998  94.750000\n",
       "7019 1977-12-29  94.750000  95.430000  94.099998  94.940002\n",
       "7020 1977-12-30  94.940002  95.669998  94.440002  95.099998\n",
       "\n",
       "[4510 rows x 5 columns]"
      ]
     },
     "execution_count": 5,
     "metadata": {},
     "output_type": "execute_result"
    }
   ],
   "source": [
    "# remove redundant variables\n",
    "price_old = price_old.drop(['Volume', 'Adj Close' ], 1)\n",
    "# transform Date to date timestamp\n",
    "price_old['Date'] = pd.to_datetime(price_old['Date'])\n",
    "price_old = price_old.loc[ (price_old['Date'] < '1978-01-03') &  (price_old['Date']  >= '1960-01-01' )]\n",
    "price_old"
   ]
  },
  {
   "cell_type": "code",
   "execution_count": 6,
   "metadata": {},
   "outputs": [
    {
     "data": {
      "text/html": [
       "<div>\n",
       "<style scoped>\n",
       "    .dataframe tbody tr th:only-of-type {\n",
       "        vertical-align: middle;\n",
       "    }\n",
       "\n",
       "    .dataframe tbody tr th {\n",
       "        vertical-align: top;\n",
       "    }\n",
       "\n",
       "    .dataframe thead th {\n",
       "        text-align: right;\n",
       "    }\n",
       "</style>\n",
       "<table border=\"1\" class=\"dataframe\">\n",
       "  <thead>\n",
       "    <tr style=\"text-align: right;\">\n",
       "      <th></th>\n",
       "      <th>Date</th>\n",
       "      <th>Open</th>\n",
       "      <th>High</th>\n",
       "      <th>Low</th>\n",
       "      <th>Close</th>\n",
       "    </tr>\n",
       "  </thead>\n",
       "  <tbody>\n",
       "    <tr>\n",
       "      <th>0</th>\n",
       "      <td>1978-01-03</td>\n",
       "      <td>93.82</td>\n",
       "      <td>95.15</td>\n",
       "      <td>93.49</td>\n",
       "      <td>93.82</td>\n",
       "    </tr>\n",
       "    <tr>\n",
       "      <th>1</th>\n",
       "      <td>1978-01-04</td>\n",
       "      <td>93.52</td>\n",
       "      <td>94.10</td>\n",
       "      <td>93.16</td>\n",
       "      <td>93.52</td>\n",
       "    </tr>\n",
       "    <tr>\n",
       "      <th>2</th>\n",
       "      <td>1978-01-05</td>\n",
       "      <td>92.74</td>\n",
       "      <td>94.53</td>\n",
       "      <td>92.51</td>\n",
       "      <td>92.74</td>\n",
       "    </tr>\n",
       "    <tr>\n",
       "      <th>3</th>\n",
       "      <td>1978-01-06</td>\n",
       "      <td>91.62</td>\n",
       "      <td>92.66</td>\n",
       "      <td>91.05</td>\n",
       "      <td>91.62</td>\n",
       "    </tr>\n",
       "    <tr>\n",
       "      <th>4</th>\n",
       "      <td>1978-01-09</td>\n",
       "      <td>90.64</td>\n",
       "      <td>91.52</td>\n",
       "      <td>90.01</td>\n",
       "      <td>90.64</td>\n",
       "    </tr>\n",
       "    <tr>\n",
       "      <th>...</th>\n",
       "      <td>...</td>\n",
       "      <td>...</td>\n",
       "      <td>...</td>\n",
       "      <td>...</td>\n",
       "      <td>...</td>\n",
       "    </tr>\n",
       "    <tr>\n",
       "      <th>10839</th>\n",
       "      <td>2020-12-24</td>\n",
       "      <td>3694.03</td>\n",
       "      <td>3703.82</td>\n",
       "      <td>3689.32</td>\n",
       "      <td>3703.06</td>\n",
       "    </tr>\n",
       "    <tr>\n",
       "      <th>10840</th>\n",
       "      <td>2020-12-28</td>\n",
       "      <td>3723.03</td>\n",
       "      <td>3740.51</td>\n",
       "      <td>3723.03</td>\n",
       "      <td>3735.36</td>\n",
       "    </tr>\n",
       "    <tr>\n",
       "      <th>10841</th>\n",
       "      <td>2020-12-29</td>\n",
       "      <td>3750.01</td>\n",
       "      <td>3756.12</td>\n",
       "      <td>3723.31</td>\n",
       "      <td>3727.04</td>\n",
       "    </tr>\n",
       "    <tr>\n",
       "      <th>10842</th>\n",
       "      <td>2020-12-30</td>\n",
       "      <td>3736.19</td>\n",
       "      <td>3744.63</td>\n",
       "      <td>3730.21</td>\n",
       "      <td>3732.04</td>\n",
       "    </tr>\n",
       "    <tr>\n",
       "      <th>10843</th>\n",
       "      <td>2020-12-31</td>\n",
       "      <td>3733.27</td>\n",
       "      <td>3760.20</td>\n",
       "      <td>3726.88</td>\n",
       "      <td>3756.07</td>\n",
       "    </tr>\n",
       "  </tbody>\n",
       "</table>\n",
       "<p>10844 rows × 5 columns</p>\n",
       "</div>"
      ],
      "text/plain": [
       "            Date     Open     High      Low    Close\n",
       "0     1978-01-03    93.82    95.15    93.49    93.82\n",
       "1     1978-01-04    93.52    94.10    93.16    93.52\n",
       "2     1978-01-05    92.74    94.53    92.51    92.74\n",
       "3     1978-01-06    91.62    92.66    91.05    91.62\n",
       "4     1978-01-09    90.64    91.52    90.01    90.64\n",
       "...          ...      ...      ...      ...      ...\n",
       "10839 2020-12-24  3694.03  3703.82  3689.32  3703.06\n",
       "10840 2020-12-28  3723.03  3740.51  3723.03  3735.36\n",
       "10841 2020-12-29  3750.01  3756.12  3723.31  3727.04\n",
       "10842 2020-12-30  3736.19  3744.63  3730.21  3732.04\n",
       "10843 2020-12-31  3733.27  3760.20  3726.88  3756.07\n",
       "\n",
       "[10844 rows x 5 columns]"
      ]
     },
     "execution_count": 6,
     "metadata": {},
     "output_type": "execute_result"
    }
   ],
   "source": [
    "price_new['Date'] = pd.to_datetime(price_new['Date'])\n",
    "#reverse the dataset\n",
    "price_new = price_new.iloc[::-1].reset_index(drop = True)\n",
    "#reset the column names\n",
    "price_new. columns = ['Date', 'Open', 'High', 'Low', 'Close']\n",
    "price_new"
   ]
  },
  {
   "cell_type": "code",
   "execution_count": 7,
   "metadata": {},
   "outputs": [
    {
     "data": {
      "text/html": [
       "<div>\n",
       "<style scoped>\n",
       "    .dataframe tbody tr th:only-of-type {\n",
       "        vertical-align: middle;\n",
       "    }\n",
       "\n",
       "    .dataframe tbody tr th {\n",
       "        vertical-align: top;\n",
       "    }\n",
       "\n",
       "    .dataframe thead th {\n",
       "        text-align: right;\n",
       "    }\n",
       "</style>\n",
       "<table border=\"1\" class=\"dataframe\">\n",
       "  <thead>\n",
       "    <tr style=\"text-align: right;\">\n",
       "      <th></th>\n",
       "      <th>Date</th>\n",
       "      <th>Open</th>\n",
       "      <th>High</th>\n",
       "      <th>Low</th>\n",
       "      <th>Close</th>\n",
       "    </tr>\n",
       "  </thead>\n",
       "  <tbody>\n",
       "    <tr>\n",
       "      <th>0</th>\n",
       "      <td>1960-01-04</td>\n",
       "      <td>59.910000</td>\n",
       "      <td>59.910000</td>\n",
       "      <td>59.910000</td>\n",
       "      <td>59.910000</td>\n",
       "    </tr>\n",
       "    <tr>\n",
       "      <th>1</th>\n",
       "      <td>1960-01-05</td>\n",
       "      <td>60.389999</td>\n",
       "      <td>60.389999</td>\n",
       "      <td>60.389999</td>\n",
       "      <td>60.389999</td>\n",
       "    </tr>\n",
       "    <tr>\n",
       "      <th>2</th>\n",
       "      <td>1960-01-06</td>\n",
       "      <td>60.130001</td>\n",
       "      <td>60.130001</td>\n",
       "      <td>60.130001</td>\n",
       "      <td>60.130001</td>\n",
       "    </tr>\n",
       "    <tr>\n",
       "      <th>3</th>\n",
       "      <td>1960-01-07</td>\n",
       "      <td>59.689999</td>\n",
       "      <td>59.689999</td>\n",
       "      <td>59.689999</td>\n",
       "      <td>59.689999</td>\n",
       "    </tr>\n",
       "    <tr>\n",
       "      <th>4</th>\n",
       "      <td>1960-01-08</td>\n",
       "      <td>59.500000</td>\n",
       "      <td>59.500000</td>\n",
       "      <td>59.500000</td>\n",
       "      <td>59.500000</td>\n",
       "    </tr>\n",
       "    <tr>\n",
       "      <th>...</th>\n",
       "      <td>...</td>\n",
       "      <td>...</td>\n",
       "      <td>...</td>\n",
       "      <td>...</td>\n",
       "      <td>...</td>\n",
       "    </tr>\n",
       "    <tr>\n",
       "      <th>15349</th>\n",
       "      <td>2020-12-24</td>\n",
       "      <td>3694.030000</td>\n",
       "      <td>3703.820000</td>\n",
       "      <td>3689.320000</td>\n",
       "      <td>3703.060000</td>\n",
       "    </tr>\n",
       "    <tr>\n",
       "      <th>15350</th>\n",
       "      <td>2020-12-28</td>\n",
       "      <td>3723.030000</td>\n",
       "      <td>3740.510000</td>\n",
       "      <td>3723.030000</td>\n",
       "      <td>3735.360000</td>\n",
       "    </tr>\n",
       "    <tr>\n",
       "      <th>15351</th>\n",
       "      <td>2020-12-29</td>\n",
       "      <td>3750.010000</td>\n",
       "      <td>3756.120000</td>\n",
       "      <td>3723.310000</td>\n",
       "      <td>3727.040000</td>\n",
       "    </tr>\n",
       "    <tr>\n",
       "      <th>15352</th>\n",
       "      <td>2020-12-30</td>\n",
       "      <td>3736.190000</td>\n",
       "      <td>3744.630000</td>\n",
       "      <td>3730.210000</td>\n",
       "      <td>3732.040000</td>\n",
       "    </tr>\n",
       "    <tr>\n",
       "      <th>15353</th>\n",
       "      <td>2020-12-31</td>\n",
       "      <td>3733.270000</td>\n",
       "      <td>3760.200000</td>\n",
       "      <td>3726.880000</td>\n",
       "      <td>3756.070000</td>\n",
       "    </tr>\n",
       "  </tbody>\n",
       "</table>\n",
       "<p>15354 rows × 5 columns</p>\n",
       "</div>"
      ],
      "text/plain": [
       "            Date         Open         High          Low        Close\n",
       "0     1960-01-04    59.910000    59.910000    59.910000    59.910000\n",
       "1     1960-01-05    60.389999    60.389999    60.389999    60.389999\n",
       "2     1960-01-06    60.130001    60.130001    60.130001    60.130001\n",
       "3     1960-01-07    59.689999    59.689999    59.689999    59.689999\n",
       "4     1960-01-08    59.500000    59.500000    59.500000    59.500000\n",
       "...          ...          ...          ...          ...          ...\n",
       "15349 2020-12-24  3694.030000  3703.820000  3689.320000  3703.060000\n",
       "15350 2020-12-28  3723.030000  3740.510000  3723.030000  3735.360000\n",
       "15351 2020-12-29  3750.010000  3756.120000  3723.310000  3727.040000\n",
       "15352 2020-12-30  3736.190000  3744.630000  3730.210000  3732.040000\n",
       "15353 2020-12-31  3733.270000  3760.200000  3726.880000  3756.070000\n",
       "\n",
       "[15354 rows x 5 columns]"
      ]
     },
     "execution_count": 7,
     "metadata": {},
     "output_type": "execute_result"
    }
   ],
   "source": [
    "# combine two s&p500 datasets\n",
    "# now the dataset includes all the s&p 500 price data from 1 Jan 1960 to 31 Dec 2020  \n",
    "frames = [price_old, price_new]\n",
    "price = pd.concat(frames).reset_index(drop = True)\n",
    "price"
   ]
  },
  {
   "cell_type": "code",
   "execution_count": 8,
   "metadata": {},
   "outputs": [],
   "source": [
    "price['Date_PE']=0.0\n",
    "for i in range(price.shape[0]):\n",
    "    month = price['Date'][i].month\n",
    "    year = price['Date'][i].year\n",
    "    price.loc[i, 'Date_PE']=year+month*0.01\n",
    "# merge sp500 data with the Schiller P/E ratio based on Date.\n",
    "data_full = pd.merge(price, pe, how='left', on='Date_PE')\n",
    "data_full = data_full.drop(['Date_PE' ], 1)"
   ]
  },
  {
   "cell_type": "code",
   "execution_count": 8,
   "metadata": {},
   "outputs": [],
   "source": [
    "# save the merged dataset\n",
    "data_full.to_csv('Price_PE.csv')"
   ]
  },
  {
   "cell_type": "code",
   "execution_count": 9,
   "metadata": {},
   "outputs": [
    {
     "data": {
      "text/html": [
       "<div>\n",
       "<style scoped>\n",
       "    .dataframe tbody tr th:only-of-type {\n",
       "        vertical-align: middle;\n",
       "    }\n",
       "\n",
       "    .dataframe tbody tr th {\n",
       "        vertical-align: top;\n",
       "    }\n",
       "\n",
       "    .dataframe thead th {\n",
       "        text-align: right;\n",
       "    }\n",
       "</style>\n",
       "<table border=\"1\" class=\"dataframe\">\n",
       "  <thead>\n",
       "    <tr style=\"text-align: right;\">\n",
       "      <th></th>\n",
       "      <th>Date</th>\n",
       "      <th>Open</th>\n",
       "      <th>High</th>\n",
       "      <th>Low</th>\n",
       "      <th>Close</th>\n",
       "      <th>PE_CAPE</th>\n",
       "    </tr>\n",
       "  </thead>\n",
       "  <tbody>\n",
       "    <tr>\n",
       "      <th>0</th>\n",
       "      <td>1960-01-04</td>\n",
       "      <td>59.910000</td>\n",
       "      <td>59.910000</td>\n",
       "      <td>59.910000</td>\n",
       "      <td>59.910000</td>\n",
       "      <td>18.338285</td>\n",
       "    </tr>\n",
       "    <tr>\n",
       "      <th>1</th>\n",
       "      <td>1960-01-05</td>\n",
       "      <td>60.389999</td>\n",
       "      <td>60.389999</td>\n",
       "      <td>60.389999</td>\n",
       "      <td>60.389999</td>\n",
       "      <td>18.338285</td>\n",
       "    </tr>\n",
       "    <tr>\n",
       "      <th>2</th>\n",
       "      <td>1960-01-06</td>\n",
       "      <td>60.130001</td>\n",
       "      <td>60.130001</td>\n",
       "      <td>60.130001</td>\n",
       "      <td>60.130001</td>\n",
       "      <td>18.338285</td>\n",
       "    </tr>\n",
       "    <tr>\n",
       "      <th>3</th>\n",
       "      <td>1960-01-07</td>\n",
       "      <td>59.689999</td>\n",
       "      <td>59.689999</td>\n",
       "      <td>59.689999</td>\n",
       "      <td>59.689999</td>\n",
       "      <td>18.338285</td>\n",
       "    </tr>\n",
       "    <tr>\n",
       "      <th>4</th>\n",
       "      <td>1960-01-08</td>\n",
       "      <td>59.500000</td>\n",
       "      <td>59.500000</td>\n",
       "      <td>59.500000</td>\n",
       "      <td>59.500000</td>\n",
       "      <td>18.338285</td>\n",
       "    </tr>\n",
       "    <tr>\n",
       "      <th>...</th>\n",
       "      <td>...</td>\n",
       "      <td>...</td>\n",
       "      <td>...</td>\n",
       "      <td>...</td>\n",
       "      <td>...</td>\n",
       "      <td>...</td>\n",
       "    </tr>\n",
       "    <tr>\n",
       "      <th>15349</th>\n",
       "      <td>2020-12-24</td>\n",
       "      <td>3694.030000</td>\n",
       "      <td>3703.820000</td>\n",
       "      <td>3689.320000</td>\n",
       "      <td>3703.060000</td>\n",
       "      <td>33.769789</td>\n",
       "    </tr>\n",
       "    <tr>\n",
       "      <th>15350</th>\n",
       "      <td>2020-12-28</td>\n",
       "      <td>3723.030000</td>\n",
       "      <td>3740.510000</td>\n",
       "      <td>3723.030000</td>\n",
       "      <td>3735.360000</td>\n",
       "      <td>33.769789</td>\n",
       "    </tr>\n",
       "    <tr>\n",
       "      <th>15351</th>\n",
       "      <td>2020-12-29</td>\n",
       "      <td>3750.010000</td>\n",
       "      <td>3756.120000</td>\n",
       "      <td>3723.310000</td>\n",
       "      <td>3727.040000</td>\n",
       "      <td>33.769789</td>\n",
       "    </tr>\n",
       "    <tr>\n",
       "      <th>15352</th>\n",
       "      <td>2020-12-30</td>\n",
       "      <td>3736.190000</td>\n",
       "      <td>3744.630000</td>\n",
       "      <td>3730.210000</td>\n",
       "      <td>3732.040000</td>\n",
       "      <td>33.769789</td>\n",
       "    </tr>\n",
       "    <tr>\n",
       "      <th>15353</th>\n",
       "      <td>2020-12-31</td>\n",
       "      <td>3733.270000</td>\n",
       "      <td>3760.200000</td>\n",
       "      <td>3726.880000</td>\n",
       "      <td>3756.070000</td>\n",
       "      <td>33.769789</td>\n",
       "    </tr>\n",
       "  </tbody>\n",
       "</table>\n",
       "<p>15354 rows × 6 columns</p>\n",
       "</div>"
      ],
      "text/plain": [
       "            Date         Open         High          Low        Close  \\\n",
       "0     1960-01-04    59.910000    59.910000    59.910000    59.910000   \n",
       "1     1960-01-05    60.389999    60.389999    60.389999    60.389999   \n",
       "2     1960-01-06    60.130001    60.130001    60.130001    60.130001   \n",
       "3     1960-01-07    59.689999    59.689999    59.689999    59.689999   \n",
       "4     1960-01-08    59.500000    59.500000    59.500000    59.500000   \n",
       "...          ...          ...          ...          ...          ...   \n",
       "15349 2020-12-24  3694.030000  3703.820000  3689.320000  3703.060000   \n",
       "15350 2020-12-28  3723.030000  3740.510000  3723.030000  3735.360000   \n",
       "15351 2020-12-29  3750.010000  3756.120000  3723.310000  3727.040000   \n",
       "15352 2020-12-30  3736.190000  3744.630000  3730.210000  3732.040000   \n",
       "15353 2020-12-31  3733.270000  3760.200000  3726.880000  3756.070000   \n",
       "\n",
       "         PE_CAPE  \n",
       "0      18.338285  \n",
       "1      18.338285  \n",
       "2      18.338285  \n",
       "3      18.338285  \n",
       "4      18.338285  \n",
       "...          ...  \n",
       "15349  33.769789  \n",
       "15350  33.769789  \n",
       "15351  33.769789  \n",
       "15352  33.769789  \n",
       "15353  33.769789  \n",
       "\n",
       "[15354 rows x 6 columns]"
      ]
     },
     "execution_count": 9,
     "metadata": {},
     "output_type": "execute_result"
    }
   ],
   "source": [
    "data_full"
   ]
  },
  {
   "cell_type": "code",
   "execution_count": 10,
   "metadata": {},
   "outputs": [
    {
     "data": {
      "text/plain": [
       "0        18.338285\n",
       "1        18.338285\n",
       "2        18.338285\n",
       "3        18.338285\n",
       "4        18.338285\n",
       "           ...    \n",
       "15349    33.769789\n",
       "15350    33.769789\n",
       "15351    33.769789\n",
       "15352    33.769789\n",
       "15353    33.769789\n",
       "Name: PE_CAPE, Length: 15354, dtype: float64"
      ]
     },
     "execution_count": 10,
     "metadata": {},
     "output_type": "execute_result"
    }
   ],
   "source": [
    "data_full['PE_CAPE']"
   ]
  },
  {
   "cell_type": "code",
   "execution_count": 11,
   "metadata": {},
   "outputs": [
    {
     "data": {
      "text/plain": [
       "array([18.33828499, 18.33828499, 18.33828499, ..., 33.76978942,\n",
       "       33.76978942, 33.76978942])"
      ]
     },
     "execution_count": 11,
     "metadata": {},
     "output_type": "execute_result"
    }
   ],
   "source": [
    "data_full['PE_CAPE'].values"
   ]
  },
  {
   "cell_type": "markdown",
   "metadata": {},
   "source": [
    "### Note that the schiller pe ratio are monthly data. Here we modify the montly data to daily data. "
   ]
  },
  {
   "cell_type": "code",
   "execution_count": 12,
   "metadata": {},
   "outputs": [],
   "source": [
    "#modify the monthly schiller pe ratio to daily one\n",
    "PE_monthly = data_full['PE_CAPE'].values\n",
    "PE_daily = PE_monthly.copy()\n",
    "price_tmp = data_full['Close'][0]\n",
    "for i in range(1, len(PE_monthly)):\n",
    "    if PE_monthly[i] == PE_monthly[i-1]:\n",
    "        pe = PE_monthly[i]/price_tmp*data_full['Close'][i]\n",
    "        PE_daily[i] = pe\n",
    "        \n",
    "    else:\n",
    "        #new month\n",
    "        price_tmp = data_full['Close'][i]\n",
    "        PE_daily[i] = PE_monthly[i]\n",
    "data_full['PE_CAPE'] = PE_daily        "
   ]
  },
  {
   "cell_type": "code",
   "execution_count": 13,
   "metadata": {},
   "outputs": [
    {
     "data": {
      "text/html": [
       "<div>\n",
       "<style scoped>\n",
       "    .dataframe tbody tr th:only-of-type {\n",
       "        vertical-align: middle;\n",
       "    }\n",
       "\n",
       "    .dataframe tbody tr th {\n",
       "        vertical-align: top;\n",
       "    }\n",
       "\n",
       "    .dataframe thead th {\n",
       "        text-align: right;\n",
       "    }\n",
       "</style>\n",
       "<table border=\"1\" class=\"dataframe\">\n",
       "  <thead>\n",
       "    <tr style=\"text-align: right;\">\n",
       "      <th></th>\n",
       "      <th>Date</th>\n",
       "      <th>Open</th>\n",
       "      <th>High</th>\n",
       "      <th>Low</th>\n",
       "      <th>Close</th>\n",
       "      <th>PE_CAPE</th>\n",
       "    </tr>\n",
       "  </thead>\n",
       "  <tbody>\n",
       "    <tr>\n",
       "      <th>0</th>\n",
       "      <td>1960-01-04</td>\n",
       "      <td>59.910000</td>\n",
       "      <td>59.910000</td>\n",
       "      <td>59.910000</td>\n",
       "      <td>59.910000</td>\n",
       "      <td>18.338285</td>\n",
       "    </tr>\n",
       "    <tr>\n",
       "      <th>1</th>\n",
       "      <td>1960-01-05</td>\n",
       "      <td>60.389999</td>\n",
       "      <td>60.389999</td>\n",
       "      <td>60.389999</td>\n",
       "      <td>60.389999</td>\n",
       "      <td>18.485211</td>\n",
       "    </tr>\n",
       "    <tr>\n",
       "      <th>2</th>\n",
       "      <td>1960-01-06</td>\n",
       "      <td>60.130001</td>\n",
       "      <td>60.130001</td>\n",
       "      <td>60.130001</td>\n",
       "      <td>60.130001</td>\n",
       "      <td>18.405627</td>\n",
       "    </tr>\n",
       "    <tr>\n",
       "      <th>3</th>\n",
       "      <td>1960-01-07</td>\n",
       "      <td>59.689999</td>\n",
       "      <td>59.689999</td>\n",
       "      <td>59.689999</td>\n",
       "      <td>59.689999</td>\n",
       "      <td>18.270943</td>\n",
       "    </tr>\n",
       "    <tr>\n",
       "      <th>4</th>\n",
       "      <td>1960-01-08</td>\n",
       "      <td>59.500000</td>\n",
       "      <td>59.500000</td>\n",
       "      <td>59.500000</td>\n",
       "      <td>59.500000</td>\n",
       "      <td>18.212785</td>\n",
       "    </tr>\n",
       "    <tr>\n",
       "      <th>...</th>\n",
       "      <td>...</td>\n",
       "      <td>...</td>\n",
       "      <td>...</td>\n",
       "      <td>...</td>\n",
       "      <td>...</td>\n",
       "      <td>...</td>\n",
       "    </tr>\n",
       "    <tr>\n",
       "      <th>15349</th>\n",
       "      <td>2020-12-24</td>\n",
       "      <td>3694.030000</td>\n",
       "      <td>3703.820000</td>\n",
       "      <td>3689.320000</td>\n",
       "      <td>3703.060000</td>\n",
       "      <td>34.144236</td>\n",
       "    </tr>\n",
       "    <tr>\n",
       "      <th>15350</th>\n",
       "      <td>2020-12-28</td>\n",
       "      <td>3723.030000</td>\n",
       "      <td>3740.510000</td>\n",
       "      <td>3723.030000</td>\n",
       "      <td>3735.360000</td>\n",
       "      <td>34.442059</td>\n",
       "    </tr>\n",
       "    <tr>\n",
       "      <th>15351</th>\n",
       "      <td>2020-12-29</td>\n",
       "      <td>3750.010000</td>\n",
       "      <td>3756.120000</td>\n",
       "      <td>3723.310000</td>\n",
       "      <td>3727.040000</td>\n",
       "      <td>34.365344</td>\n",
       "    </tr>\n",
       "    <tr>\n",
       "      <th>15352</th>\n",
       "      <td>2020-12-30</td>\n",
       "      <td>3736.190000</td>\n",
       "      <td>3744.630000</td>\n",
       "      <td>3730.210000</td>\n",
       "      <td>3732.040000</td>\n",
       "      <td>34.411447</td>\n",
       "    </tr>\n",
       "    <tr>\n",
       "      <th>15353</th>\n",
       "      <td>2020-12-31</td>\n",
       "      <td>3733.270000</td>\n",
       "      <td>3760.200000</td>\n",
       "      <td>3726.880000</td>\n",
       "      <td>3756.070000</td>\n",
       "      <td>34.633017</td>\n",
       "    </tr>\n",
       "  </tbody>\n",
       "</table>\n",
       "<p>15354 rows × 6 columns</p>\n",
       "</div>"
      ],
      "text/plain": [
       "            Date         Open         High          Low        Close  \\\n",
       "0     1960-01-04    59.910000    59.910000    59.910000    59.910000   \n",
       "1     1960-01-05    60.389999    60.389999    60.389999    60.389999   \n",
       "2     1960-01-06    60.130001    60.130001    60.130001    60.130001   \n",
       "3     1960-01-07    59.689999    59.689999    59.689999    59.689999   \n",
       "4     1960-01-08    59.500000    59.500000    59.500000    59.500000   \n",
       "...          ...          ...          ...          ...          ...   \n",
       "15349 2020-12-24  3694.030000  3703.820000  3689.320000  3703.060000   \n",
       "15350 2020-12-28  3723.030000  3740.510000  3723.030000  3735.360000   \n",
       "15351 2020-12-29  3750.010000  3756.120000  3723.310000  3727.040000   \n",
       "15352 2020-12-30  3736.190000  3744.630000  3730.210000  3732.040000   \n",
       "15353 2020-12-31  3733.270000  3760.200000  3726.880000  3756.070000   \n",
       "\n",
       "         PE_CAPE  \n",
       "0      18.338285  \n",
       "1      18.485211  \n",
       "2      18.405627  \n",
       "3      18.270943  \n",
       "4      18.212785  \n",
       "...          ...  \n",
       "15349  34.144236  \n",
       "15350  34.442059  \n",
       "15351  34.365344  \n",
       "15352  34.411447  \n",
       "15353  34.633017  \n",
       "\n",
       "[15354 rows x 6 columns]"
      ]
     },
     "execution_count": 13,
     "metadata": {},
     "output_type": "execute_result"
    }
   ],
   "source": [
    "data_full"
   ]
  },
  {
   "cell_type": "markdown",
   "metadata": {},
   "source": [
    "### Make an overlay of the Schiller P/E onto the S&P500 for the same period."
   ]
  },
  {
   "cell_type": "code",
   "execution_count": 14,
   "metadata": {},
   "outputs": [
    {
     "name": "stderr",
     "output_type": "stream",
     "text": [
      "The PostScript backend does not support transparency; partially transparent artists will be rendered opaque.\n",
      "The PostScript backend does not support transparency; partially transparent artists will be rendered opaque.\n"
     ]
    },
    {
     "data": {
      "image/png": "[encoded data removed]",
      "text/plain": [
       "<Figure size 1080x360 with 2 Axes>"
      ]
     },
     "metadata": {
      "needs_background": "light"
     },
     "output_type": "display_data"
    }
   ],
   "source": [
    "plt.figure(figsize=(15, 5));\n",
    "plt.plot(data_full.Date, data_full.Open.values, color='grey', label='Open')\n",
    "plt.plot(data_full.Date, data_full.Close.values, color='black', label='Close')\n",
    "plt.plot(data_full.Date, data_full.Low.values, color='red', label='Low')\n",
    "plt.plot(data_full.Date, data_full.High.values, color='green', label='High')\n",
    "plt.title('S&P 500 price and Shiller PE Ratio')\n",
    "plt.xlabel('Date')\n",
    "plt.ylabel('S&P 500 price')\n",
    "plt.legend(loc='best')\n",
    "# twin object for two different y-axis on the sample plot\n",
    "ax2=plt.twinx()\n",
    "# make a plot with different y-axis using second axis object\n",
    "ax2.plot(data_full.Date, data_full.PE_CAPE.values,color=\"blue\")\n",
    "ax2.set_ylabel(\"Shiller PE Ratio\", color=\"blue\",fontsize=14)\n",
    "plt.savefig('price_pe.eps')\n",
    "plt.show()\n"
   ]
  },
  {
   "cell_type": "markdown",
   "metadata": {},
   "source": [
    "### Here, we are only using ClOSE price and Cyclicily adjusted PE-ratio to train the model"
   ]
  },
  {
   "cell_type": "code",
   "execution_count": 11,
   "metadata": {},
   "outputs": [
    {
     "data": {
      "text/plain": [
       "array([[  59.91      ,   18.33828499],\n",
       "       [  60.389999  ,   18.33828499],\n",
       "       [  60.130001  ,   18.33828499],\n",
       "       ...,\n",
       "       [3727.04      ,   33.76978942],\n",
       "       [3732.04      ,   33.76978942],\n",
       "       [3756.07      ,   33.76978942]])"
      ]
     },
     "execution_count": 11,
     "metadata": {},
     "output_type": "execute_result"
    }
   ],
   "source": [
    "dataset = data_full[ ['Close', 'PE_CAPE']].values\n",
    "dataset"
   ]
  },
  {
   "cell_type": "code",
   "execution_count": 16,
   "metadata": {},
   "outputs": [],
   "source": [
    "# extract the timestamp data\n",
    "date_data= data_full[ ['Date']].values"
   ]
  },
  {
   "cell_type": "code",
   "execution_count": 17,
   "metadata": {},
   "outputs": [
    {
     "data": {
      "text/plain": [
       "array([[0.00208161, 0.29057405],\n",
       "       [0.0022112 , 0.29410392],\n",
       "       [0.002141  , 0.29219192],\n",
       "       ...,\n",
       "       [0.99216225, 0.67562076],\n",
       "       [0.99351219, 0.67672837],\n",
       "       [1.        , 0.68205154]])"
      ]
     },
     "execution_count": 17,
     "metadata": {},
     "output_type": "execute_result"
    }
   ],
   "source": [
    "# Feature Scaling: min-max normalization of features\n",
    "sc = MinMaxScaler(feature_range = (0, 1))\n",
    "dataset_scaled = sc.fit_transform(dataset)\n",
    "dataset_scaled"
   ]
  },
  {
   "cell_type": "code",
   "execution_count": 18,
   "metadata": {},
   "outputs": [
    {
     "data": {
      "text/plain": [
       "(15354, 2)"
      ]
     },
     "execution_count": 18,
     "metadata": {},
     "output_type": "execute_result"
    }
   ],
   "source": [
    "# number of timepoint and number of feature\n",
    "n_rows, n_cols = dataset_scaled.shape\n",
    "(n_rows, n_cols)"
   ]
  },
  {
   "cell_type": "code",
   "execution_count": 19,
   "metadata": {},
   "outputs": [],
   "source": [
    "# general settings\n",
    "# The number of expected features in the input x is 2\n",
    "input_size = 2\n",
    "# output_size = 4 as we want to predict the next one, two, three, and four trading data \n",
    "output_size = 4\n",
    "# sequence length is 180\n",
    "window_size = 180"
   ]
  },
  {
   "cell_type": "code",
   "execution_count": 20,
   "metadata": {},
   "outputs": [],
   "source": [
    "# Creating a data structure with 180 timesteps and 4 output\n",
    "X_full = []\n",
    "y_full = []\n",
    "date_full = []\n",
    "for i in range( n_rows - window_size - output_size +1):\n",
    "    X_full.append(dataset_scaled[i:i+window_size, ])\n",
    "    y_full.append(dataset_scaled[i+window_size: i+ window_size + output_size, 0])\n",
    "    date_full.append(date_data[i+window_size])\n",
    "    \n",
    "X_full, y_full, date_full = np.array(X_full), np.array(y_full), np.array(date_full)\n",
    "y_full = np.reshape(y_full, (y_full.shape[0], 1, y_full.shape[1]))"
   ]
  },
  {
   "cell_type": "code",
   "execution_count": 21,
   "metadata": {},
   "outputs": [
    {
     "data": {
      "text/plain": [
       "(15171, 180, 2)"
      ]
     },
     "execution_count": 21,
     "metadata": {},
     "output_type": "execute_result"
    }
   ],
   "source": [
    "X_full.shape"
   ]
  },
  {
   "cell_type": "code",
   "execution_count": 22,
   "metadata": {},
   "outputs": [
    {
     "data": {
      "text/plain": [
       "(15171, 1, 4)"
      ]
     },
     "execution_count": 22,
     "metadata": {},
     "output_type": "execute_result"
    }
   ],
   "source": [
    "y_full.shape"
   ]
  },
  {
   "cell_type": "markdown",
   "metadata": {},
   "source": [
    "## Step 2 - Develop and test/verify a correlation-based algorithm to correlate when the Schiller P/E ratio is very high (spikes upward significantly) and the S&P500 is also high (peaking or ready to peak)"
   ]
  },
  {
   "cell_type": "code",
   "execution_count": 23,
   "metadata": {},
   "outputs": [],
   "source": [
    "##Compute correlation score S and add it to fourth column\n",
    "dataset_scaled = np.append(dataset_scaled,np.zeros([len(dataset),1]),1)"
   ]
  },
  {
   "cell_type": "code",
   "execution_count": 25,
   "metadata": {},
   "outputs": [
    {
     "data": {
      "text/plain": [
       "array([0.00208161, 0.0022112 , 0.002141  , 0.00202221, 0.00197091,\n",
       "       0.00177382, 0.00167662, 0.00158753, 0.00167393, 0.00166853])"
      ]
     },
     "execution_count": 25,
     "metadata": {},
     "output_type": "execute_result"
    }
   ],
   "source": [
    "dataset_scaled[0:10, 0]"
   ]
  },
  {
   "cell_type": "code",
   "execution_count": 24,
   "metadata": {},
   "outputs": [
    {
     "data": {
      "text/plain": [
       "array([[0.00208161, 0.29057405, 0.        ],\n",
       "       [0.0022112 , 0.29410392, 0.        ],\n",
       "       [0.002141  , 0.29219192, 0.        ],\n",
       "       ...,\n",
       "       [0.99216225, 0.67562076, 0.85676947],\n",
       "       [0.99351219, 0.67672837, 0.86028787],\n",
       "       [1.        , 0.68205154, 0.86429374]])"
      ]
     },
     "execution_count": 24,
     "metadata": {},
     "output_type": "execute_result"
    }
   ],
   "source": [
    "#calcualte the pearson correlation for 180 trading days (same as the window size we use for the testing)\n",
    "nsample = 180\n",
    "for i in range(nsample-1 ,len(dataset_scaled)):\n",
    "    # Pearson's r\n",
    "    x = dataset_scaled[(i-nsample+1):(i+1), 0]\n",
    "    y = dataset_scaled[(i-nsample+1):(i+1), 1]\n",
    "    r = np.corrcoef(x, y)\n",
    "    dataset_scaled[i][2] = r[0,1] \n",
    "dataset_scaled"
   ]
  },
  {
   "cell_type": "code",
   "execution_count": 57,
   "metadata": {},
   "outputs": [
    {
     "data": {
      "text/plain": [
       "Int64Index([    0,     1,     2,     3,     4,     5,     6,     7,     8,\n",
       "                9,\n",
       "            ...\n",
       "            15344, 15345, 15346, 15347, 15348, 15349, 15350, 15351, 15352,\n",
       "            15353],\n",
       "           dtype='int64', length=15354)"
      ]
     },
     "execution_count": 57,
     "metadata": {},
     "output_type": "execute_result"
    }
   ],
   "source": [
    "data_full.Date.index"
   ]
  },
  {
   "cell_type": "code",
   "execution_count": 27,
   "metadata": {},
   "outputs": [
    {
     "data": {
      "text/plain": [
       "Text(0, 0.5, 'Pearson Correlation')"
      ]
     },
     "execution_count": 27,
     "metadata": {},
     "output_type": "execute_result"
    },
    {
     "data": {
      "image/png": "[encoded data removed]",
      "text/plain": [
       "<Figure size 1080x360 with 1 Axes>"
      ]
     },
     "metadata": {
      "needs_background": "light"
     },
     "output_type": "display_data"
    }
   ],
   "source": [
    "plt.figure(figsize=(15, 5));\n",
    "plt.plot(data_full.Date.loc[~data_full.Date.index.isin(list(range(nsample-1))) ],\n",
    "         dataset_scaled[(nsample-1):, 2], color='grey', label='Close')\n",
    "plt.title('The Pearson Correlation of S&P 500 close price and Shiller PE Ratio')\n",
    "plt.xlabel('Date')\n",
    "plt.ylabel('Pearson Correlation')\n",
    "# plt.legend(loc='best')"
   ]
  },
  {
   "cell_type": "code",
   "execution_count": 28,
   "metadata": {},
   "outputs": [
    {
     "data": {
      "text/plain": [
       "(15354, 3)"
      ]
     },
     "execution_count": 28,
     "metadata": {},
     "output_type": "execute_result"
    }
   ],
   "source": [
    "dataset_scaled.shape"
   ]
  },
  {
   "cell_type": "code",
   "execution_count": 29,
   "metadata": {},
   "outputs": [
    {
     "data": {
      "text/plain": [
       "180"
      ]
     },
     "execution_count": 29,
     "metadata": {},
     "output_type": "execute_result"
    }
   ],
   "source": [
    "nsample"
   ]
  },
  {
   "cell_type": "code",
   "execution_count": 69,
   "metadata": {},
   "outputs": [],
   "source": [
    "sellSignalIndex = []\n",
    "prev = 0\n",
    "for x in range(len(dataset_scaled)):\n",
    "    #We add a shifting x-window, by shifting every plot nsample days to get more diverse plots\n",
    "    # and given condition that the end price is the highest point and the price drop after that day\n",
    "    if dataset_scaled[x][2] > 0.95 and x >= prev+nsample//3 and \\\n",
    "    dataset_scaled[x][0] == max(dataset_scaled[(x-nsample+1):(x+1), 0]) and \\\n",
    "    dataset_scaled[x][0] > dataset_scaled[x+1][0]:\n",
    "        sellSignalIndex.append(x)\n",
    "        prev = x"
   ]
  },
  {
   "cell_type": "code",
   "execution_count": 70,
   "metadata": {},
   "outputs": [
    {
     "data": {
      "text/plain": [
       "32"
      ]
     },
     "execution_count": 70,
     "metadata": {},
     "output_type": "execute_result"
    }
   ],
   "source": [
    "#Now, we have a candidate selling signal list\n",
    "len(sellSignalIndex)"
   ]
  },
  {
   "cell_type": "code",
   "execution_count": 85,
   "metadata": {},
   "outputs": [],
   "source": [
    "def drawPlotAndSave(data,index,folder):\n",
    "    closedpriceInPrevDays = []\n",
    "    xaxis = np.arange(0, nsample)\n",
    "    for x in reversed(range(0, nsample)):\n",
    "        closedpriceInPrevDays.append(data[index-x][0])\n",
    "        \n",
    "    # plotting\n",
    "    name = \"day%i\" %index\n",
    "    plt.axis('off')\n",
    "    plt.plot(xaxis, closedpriceInPrevDays, color =\"blue\") \n",
    "    name = name + '.png'\n",
    "    plt.savefig(folder + name, bbox_inches='tight', pad_inches=0)\n",
    "    plt.clf()\n",
    "    "
   ]
  },
  {
   "cell_type": "code",
   "execution_count": 86,
   "metadata": {},
   "outputs": [
    {
     "data": {
      "text/plain": [
       "<Figure size 432x288 with 0 Axes>"
      ]
     },
     "metadata": {},
     "output_type": "display_data"
    }
   ],
   "source": [
    "#Create the CandaidateTrain folder manually, then run this to create all possible selling signals\n",
    "import os\n",
    "import shutil\n",
    "\n",
    "folder = 'CandidateTrainSell/'\n",
    "if os.path.exists(folder ):\n",
    "    shutil.rmtree(folder )\n",
    "os.makedirs(folder )\n",
    "\n",
    "for x in sellSignalIndex:\n",
    "    drawPlotAndSave(dataset_scaled,x,folder)"
   ]
  },
  {
   "cell_type": "code",
   "execution_count": 88,
   "metadata": {},
   "outputs": [
    {
     "data": {
      "text/plain": [
       "24"
      ]
     },
     "execution_count": 88,
     "metadata": {},
     "output_type": "execute_result"
    }
   ],
   "source": [
    "# not sell \n",
    "holdSignalIndex = []\n",
    "prev = 0\n",
    "for x in range(len(dataset_scaled)):\n",
    "    if dataset_scaled[x][2] <0.5  and x >= prev+nsample//3:\n",
    "        holdSignalIndex.append(x)\n",
    "        prev = x\n",
    "#Now, we have a candidate not selling signal list\n",
    "len(holdSignalIndex)"
   ]
  },
  {
   "cell_type": "code",
   "execution_count": 93,
   "metadata": {},
   "outputs": [
    {
     "data": {
      "text/plain": [
       "<Figure size 432x288 with 0 Axes>"
      ]
     },
     "metadata": {},
     "output_type": "display_data"
    }
   ],
   "source": [
    "#Create the CandaidateTrain folder manually, then run this to create all possible hold signals\n",
    "folder = 'CandidateTrainHold/'\n",
    "if os.path.exists(folder ):\n",
    "    shutil.rmtree(folder )\n",
    "os.makedirs(folder )\n",
    "\n",
    "for x in holdSignalIndex:\n",
    "    drawPlotAndSave(dataset_scaled,x,folder)"
   ]
  },
  {
   "cell_type": "markdown",
   "metadata": {},
   "source": [
    "### Manually picking CandidateTrain sample, which almost fitting the required ABCD pattern from assignment for label=1 sample"
   ]
  },
  {
   "cell_type": "code",
   "execution_count": 94,
   "metadata": {},
   "outputs": [
    {
     "name": "stderr",
     "output_type": "stream",
     "text": [
      "100%|██████████| 32/32 [00:00<00:00, 215.06it/s]\n",
      "100%|██████████| 24/24 [00:00<00:00, 267.67it/s]\n"
     ]
    },
    {
     "data": {
      "text/plain": [
       "(56, 217, 334)"
      ]
     },
     "execution_count": 94,
     "metadata": {},
     "output_type": "execute_result"
    }
   ],
   "source": [
    "# loading training images\n",
    "train_img = []\n",
    "for img_name in tqdm(sellSignalIndex):\n",
    "    # defining the image path\n",
    "    image_path = 'CandidateTrainSell/day' + str(img_name) + '.png'\n",
    "    # reading the image\n",
    "    img = imread(image_path, as_gray=True)\n",
    "    # normalizing the pixel values\n",
    "    img /= 255.0\n",
    "    # converting the type of pixel to float 32\n",
    "    img = img.astype('float32')\n",
    "    # appending the image into the list\n",
    "    train_img.append(img)\n",
    "train_y = np.repeat(1, len(sellSignalIndex))\n",
    "for img_name in tqdm(holdSignalIndex):\n",
    "    # defining the image path\n",
    "    image_path = 'CandidateTrainHold/day' + str(img_name) + '.png'\n",
    "    # reading the image\n",
    "    img = imread(image_path, as_gray=True)\n",
    "    # normalizing the pixel values\n",
    "    img /= 255.0\n",
    "    # converting the type of pixel to float 32\n",
    "    img = img.astype('float32')\n",
    "    # appending the image into the list\n",
    "    train_img.append(img)\n",
    "np.append(train_y,np.repeat(0, len(holdSignalIndex))  )  \n",
    "    \n",
    "# converting the list to numpy array\n",
    "train_x = np.array(train_img)\n",
    "# defining the target\n",
    "\n",
    "train_x.shape"
   ]
  },
  {
   "cell_type": "code",
   "execution_count": 95,
   "metadata": {},
   "outputs": [
    {
     "data": {
      "text/plain": [
       "(<AxesSubplot:>, <matplotlib.image.AxesImage at 0x7faed599c430>)"
      ]
     },
     "execution_count": 95,
     "metadata": {},
     "output_type": "execute_result"
    },
    {
     "data": {
      "image/png": "[encoded data removed]",
      "text/plain": [
       "<Figure size 720x720 with 4 Axes>"
      ]
     },
     "metadata": {
      "needs_background": "light"
     },
     "output_type": "display_data"
    }
   ],
   "source": [
    "# visualizing images \n",
    "#first two sell \n",
    "#last two hold\n",
    "i = 0\n",
    "plt.figure(figsize=(10,10))\n",
    "plt.subplot(221), plt.imshow(train_x[i], cmap='gray')\n",
    "plt.subplot(222), plt.imshow(train_x[i+1], cmap='gray')\n",
    "plt.subplot(223), plt.imshow(train_x[i+40], cmap='gray')\n",
    "plt.subplot(224), plt.imshow(train_x[i+41], cmap='gray')"
   ]
  },
  {
   "cell_type": "markdown",
   "metadata": {},
   "source": [
    "## Step 3 - Develop CNN and train it with picked Sell and Hold datasets"
   ]
  },
  {
   "cell_type": "code",
   "execution_count": 265,
   "metadata": {},
   "outputs": [],
   "source": [
    "\n",
    "EPOCHS = 6\n",
    "TRAIN_BATCH_SIZE = 4\n",
    "TEST_BATCH_SIZE = 1\n",
    "LEARNING_RATE = 0.001\n",
    "TRAIN_DATA_PATH = \"./CNN_Train/\"\n",
    "TEST_DATA_PATH = \"./CNN_Test/\"\n",
    "TRANSFORM_IMG = transforms.Compose([\n",
    "    transforms.Resize(256),\n",
    "    transforms.CenterCrop(256),\n",
    "    transforms.ToTensor(),\n",
    "    transforms.Normalize(mean=[0.485, 0.456, 0.406],\n",
    "                         std=[0.229, 0.224, 0.225] )\n",
    "    ])\n",
    "\n"
   ]
  },
  {
   "cell_type": "code",
   "execution_count": 266,
   "metadata": {},
   "outputs": [],
   "source": [
    "train_data = torchvision.datasets.ImageFolder(root=TRAIN_DATA_PATH, transform=TRANSFORM_IMG)\n",
    "train_data_loader = data.DataLoader(train_data, batch_size=TRAIN_BATCH_SIZE, shuffle=True,  num_workers=4)\n",
    "test_data = torchvision.datasets.ImageFolder(root=TEST_DATA_PATH, transform=TRANSFORM_IMG)\n",
    "test_data_loader  = data.DataLoader(test_data, batch_size=TEST_BATCH_SIZE, shuffle=True, num_workers=4) \n"
   ]
  },
  {
   "cell_type": "code",
   "execution_count": 267,
   "metadata": {},
   "outputs": [
    {
     "data": {
      "text/plain": [
       "Dataset ImageFolder\n",
       "    Number of datapoints: 8\n",
       "    Root location: ./CNN_Test/\n",
       "    StandardTransform\n",
       "Transform: Compose(\n",
       "               Resize(size=256, interpolation=bilinear)\n",
       "               CenterCrop(size=(256, 256))\n",
       "               ToTensor()\n",
       "               Normalize(mean=[0.485, 0.456, 0.406], std=[0.229, 0.224, 0.225])\n",
       "           )"
      ]
     },
     "execution_count": 267,
     "metadata": {},
     "output_type": "execute_result"
    }
   ],
   "source": [
    "test_data"
   ]
  },
  {
   "cell_type": "code",
   "execution_count": 268,
   "metadata": {},
   "outputs": [],
   "source": [
    "class CNN(nn.Module):   \n",
    "    def __init__(self):\n",
    "        super(CNN, self).__init__()\n",
    "\n",
    "        self.cnn_layers = nn.Sequential(\n",
    "            # Defining a 2D convolution layer\n",
    "            nn.Conv2d(3, 3, kernel_size= 64, stride=1, padding=1),\n",
    "            nn.BatchNorm2d(3),\n",
    "            nn.ReLU(inplace=True),\n",
    "            nn.MaxPool2d(kernel_size=2, stride=2),\n",
    "            # Defining another 2D convolution layer\n",
    "            nn.Conv2d(3, 3, kernel_size= 32, stride=1, padding=1),\n",
    "            nn.BatchNorm2d(3),\n",
    "            nn.ReLU(inplace=True),\n",
    "            nn.MaxPool2d(kernel_size=2, stride=2),\n",
    "            # Defining another 2D convolution layer\n",
    "            nn.Conv2d(3, 3, kernel_size= 16, stride=1, padding=1),\n",
    "            nn.BatchNorm2d(3),\n",
    "            nn.ReLU(inplace=True),\n",
    "        )\n",
    "\n",
    "        self.linear_layers = nn.Sequential(\n",
    "            nn.Linear(1323, 2)\n",
    "        )\n",
    "\n",
    "    # Defining the forward pass    \n",
    "    def forward(self, x):\n",
    "        x = self.cnn_layers(x)\n",
    "        x = x.view(x.size(0), -1)\n",
    "        x = self.linear_layers(x)\n",
    "        return x"
   ]
  },
  {
   "cell_type": "code",
   "execution_count": 269,
   "metadata": {},
   "outputs": [
    {
     "name": "stdout",
     "output_type": "stream",
     "text": [
      "Number of train samples:  48\n",
      "Number of test samples:  8\n",
      "Detected Classes are:  {'CandidateTrainHold': 0, 'CandidateTrainSell': 1}\n",
      "Epoch:  0 | train loss: 0.8519 | Hold/Sell accuracy: 0.50/0.75\n",
      "Epoch:  0 | train loss: 0.9752 | Hold/Sell accuracy: 0.75/0.75\n",
      "Epoch:  0 | train loss: 0.6379 | Hold/Sell accuracy: 0.00/1.00\n",
      "Epoch:  1 | train loss: 0.5715 | Hold/Sell accuracy: 0.00/1.00\n",
      "Epoch:  1 | train loss: 0.8439 | Hold/Sell accuracy: 0.25/1.00\n",
      "Epoch:  1 | train loss: 0.1543 | Hold/Sell accuracy: 0.25/0.75\n",
      "Epoch:  2 | train loss: 0.1653 | Hold/Sell accuracy: 0.25/0.75\n",
      "Epoch:  2 | train loss: 0.3671 | Hold/Sell accuracy: 0.25/0.75\n",
      "Epoch:  2 | train loss: 0.3018 | Hold/Sell accuracy: 0.50/0.75\n",
      "Epoch:  3 | train loss: 0.3224 | Hold/Sell accuracy: 0.50/1.00\n",
      "Epoch:  3 | train loss: 0.1170 | Hold/Sell accuracy: 0.25/1.00\n",
      "Epoch:  3 | train loss: 0.2711 | Hold/Sell accuracy: 0.00/1.00\n",
      "Epoch:  4 | train loss: 0.2450 | Hold/Sell accuracy: 0.25/1.00\n",
      "Epoch:  4 | train loss: 0.1320 | Hold/Sell accuracy: 0.50/1.00\n",
      "Epoch:  4 | train loss: 0.0954 | Hold/Sell accuracy: 0.50/1.00\n",
      "Epoch:  5 | train loss: 0.0591 | Hold/Sell accuracy: 0.50/1.00\n",
      "Epoch:  5 | train loss: 0.0599 | Hold/Sell accuracy: 0.25/0.75\n",
      "Epoch:  5 | train loss: 0.0237 | Hold/Sell accuracy: 0.25/1.00\n"
     ]
    }
   ],
   "source": [
    "print(\"Number of train samples: \", len(train_data))\n",
    "print(\"Number of test samples: \", len(test_data))\n",
    "print(\"Detected Classes are: \", train_data.class_to_idx) # classes are detected by folder structure\n",
    "\n",
    "model = CNN()    \n",
    "optimizer = Adam(model.parameters(), lr=LEARNING_RATE)\n",
    "loss_func = nn.CrossEntropyLoss()    \n",
    "\n",
    "        # Training and Testing\n",
    "for epoch in range(EPOCHS):        \n",
    "    for step, (x, y) in enumerate(train_data_loader):\n",
    "        b_x = Variable(x)   # batch x (image)\n",
    "        b_y = Variable(y)   # batch y (target)\n",
    "        output = model(b_x)  \n",
    "        loss = loss_func(output, b_y)   \n",
    "        optimizer.zero_grad()           \n",
    "        loss.backward()                 \n",
    "        optimizer.step()\n",
    "        if step % 5 == 0:\n",
    "            countHold = 0\n",
    "            countSell = 0\n",
    "            for S, (x, y) in enumerate(test_data_loader):\n",
    "                test_x = Variable(x)\n",
    "                test_y = Variable(y)\n",
    "                test_output = model(test_x)\n",
    "                if test_y == 1 and torch.argmax(test_output) == test_y:\n",
    "                    countSell = countSell + 1\n",
    "                if test_y == 0 and torch.argmax(test_output) == test_y:\n",
    "                    countHold = countHold + 1\n",
    "            accuracyhold = countHold/4\n",
    "            accuracysell = countSell/4\n",
    "            print('Epoch: ', epoch, '| train loss: %.4f' % loss.item(), '| Hold/Sell accuracy: %.2f/%.2f' %(accuracyhold,accuracysell))"
   ]
  },
  {
   "cell_type": "markdown",
   "metadata": {},
   "source": [
    "## Step x - Profit simulation "
   ]
  },
  {
   "cell_type": "code",
   "execution_count": 56,
   "metadata": {},
   "outputs": [
    {
     "data": {
      "text/plain": [
       "array([59.91      , 18.33828499])"
      ]
     },
     "execution_count": 56,
     "metadata": {},
     "output_type": "execute_result"
    }
   ],
   "source": [
    "dataset[0]"
   ]
  },
  {
   "cell_type": "code",
   "execution_count": 57,
   "metadata": {},
   "outputs": [
    {
     "data": {
      "text/plain": [
       "16691.70422300117"
      ]
     },
     "execution_count": 57,
     "metadata": {},
     "output_type": "execute_result"
    }
   ],
   "source": [
    "def buy(buypoint, currentMoney):\n",
    "    return currentMoney/dataset[buypoint][0], dataset[buypoint][0]\n",
    "#Buy 1 million stocks at the frist day\n",
    "currentSPStocks, initialPrice = buy(0,1000000)\n",
    "currentSPStocks"
   ]
  },
  {
   "cell_type": "code",
   "execution_count": 58,
   "metadata": {},
   "outputs": [],
   "source": [
    "def sell(sellPoint, sellAmount, currentSPStocks):\n",
    "    return (currentSPStocks - sellAmount),  (dataset[sellPoint][0] - initialPrice) \n"
   ]
  },
  {
   "cell_type": "code",
   "execution_count": 59,
   "metadata": {},
   "outputs": [],
   "source": [
    "totalProfit = 0\n",
    "currentSPStocks, profit = sell(1000,100,currentSPStocks)"
   ]
  },
  {
   "cell_type": "code",
   "execution_count": 60,
   "metadata": {},
   "outputs": [],
   "source": [
    "totalProfit = totalProfit+profit"
   ]
  },
  {
   "cell_type": "code",
   "execution_count": 61,
   "metadata": {},
   "outputs": [
    {
     "data": {
      "text/plain": [
       "14.060001"
      ]
     },
     "execution_count": 61,
     "metadata": {},
     "output_type": "execute_result"
    }
   ],
   "source": [
    "totalProfit"
   ]
  },
  {
   "cell_type": "code",
   "execution_count": 62,
   "metadata": {},
   "outputs": [
    {
     "data": {
      "text/plain": [
       "16591.70422300117"
      ]
     },
     "execution_count": 62,
     "metadata": {},
     "output_type": "execute_result"
    }
   ],
   "source": [
    "currentSPStocks"
   ]
  },
  {
   "cell_type": "code",
   "execution_count": null,
   "metadata": {},
   "outputs": [],
   "source": []
  }
 ],
 "metadata": {
  "kernelspec": {
   "display_name": "Python 3",
   "language": "python",
   "name": "python3"
  },
  "language_info": {
   "codemirror_mode": {
    "name": "ipython",
    "version": 3
   },
   "file_extension": ".py",
   "mimetype": "text/x-python",
   "name": "python",
   "nbconvert_exporter": "python",
   "pygments_lexer": "ipython3",
   "version": "3.8.5"
  }
 },
 "nbformat": 4,
 "nbformat_minor": 4
}
